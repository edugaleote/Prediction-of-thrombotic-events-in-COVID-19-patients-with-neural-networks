{
 "cells": [
  {
   "cell_type": "markdown",
   "metadata": {},
   "source": [
    "IMPORTAMOS LAS VARIABLES QUE VAMOS A USAR"
   ]
  },
  {
   "cell_type": "code",
   "execution_count": 298,
   "metadata": {},
   "outputs": [],
   "source": [
    "import pandas as pd\n",
    "import numpy as np\n",
    "import matplotlib.pyplot as plt\n",
    "from sklearn.preprocessing import LabelEncoder\n",
    "from sklearn.linear_model import LinearRegression\n",
    "from sklearn.model_selection import train_test_split\n",
    "import keras\n",
    "from keras.models import Sequential\n",
    "from keras.layers import Dense\n",
    "from sklearn.preprocessing import StandardScaler\n",
    "from sklearn.metrics import confusion_matrix\n",
    "import tensorflow as tf\n"
   ]
  },
  {
   "cell_type": "markdown",
   "metadata": {},
   "source": [
    "LEEMOS CSV"
   ]
  },
  {
   "cell_type": "code",
   "execution_count": 208,
   "metadata": {},
   "outputs": [],
   "source": [
    "dtafile = 'datatfg.csv'\n",
    "df = pd.read_csv(dtafile, encoding='ISO-8859-1',on_bad_lines='skip',header = 0)"
   ]
  },
  {
   "cell_type": "code",
   "execution_count": 209,
   "metadata": {},
   "outputs": [],
   "source": [
    "seguido1 = np.arange(6,9,1)\n",
    "seguido2 = np.arange(10,16,1)\n",
    "seguido3 = np.arange(18,31,1)\n",
    "seguido4 = np.arange(32,40,1)\n",
    "seguido5 = np.arange(46,51,1)\n",
    "seguido6 = np.arange(66,73,1)\n",
    "seguido7 = np.arange(81,88,1)\n",
    "seguido8 = np.arange(90,95,1)\n",
    "seguido9 = np.arange(98,102,1)\n",
    "seguido10 = np.arange(120,123,1)\n",
    "seguido11 = np.arange(130,144,1)\n",
    "seguido12 = np.arange(246,265,1)\n",
    "seguido13 = np.arange(320,376,1)\n",
    "seguido14 = np.arange(381,396,1)\n",
    "seguido15 = np.arange(411,452,1)\n",
    "c = np.concatenate((seguido1,seguido2,seguido3,seguido4,[43],seguido5,seguido6,[74],[78],[79],seguido7,seguido8,seguido9,[106],[107],[108],[118],seguido10,seguido11,seguido12,[296],[313],seguido13,seguido14,seguido15))"
   ]
  },
  {
   "cell_type": "markdown",
   "metadata": {},
   "source": [
    "NOS QUEDAMOS CON LAS VARIABLES QUE NOS INTERESAN"
   ]
  },
  {
   "cell_type": "code",
   "execution_count": 210,
   "metadata": {},
   "outputs": [],
   "source": [
    "df_depurado = df.iloc[:,c]"
   ]
  },
  {
   "cell_type": "markdown",
   "metadata": {},
   "source": [
    "ELIMINAMOS PACIENTES CON VARIABLE EXITUS == 2"
   ]
  },
  {
   "cell_type": "code",
   "execution_count": 211,
   "metadata": {},
   "outputs": [],
   "source": [
    "df = df_depurado\n",
    "df = df[df.exitus != 2]"
   ]
  },
  {
   "cell_type": "code",
   "execution_count": 212,
   "metadata": {},
   "outputs": [
    {
     "data": {
      "text/plain": [
       "115"
      ]
     },
     "execution_count": 212,
     "metadata": {},
     "output_type": "execute_result"
    }
   ],
   "source": [
    "df['ictus'].value_counts()\n",
    "75+17+5+18"
   ]
  },
  {
   "cell_type": "code",
   "execution_count": 213,
   "metadata": {},
   "outputs": [
    {
     "name": "stdout",
     "output_type": "stream",
     "text": [
      "Número pacientes muertos: 626\n",
      "Eventos trombos: 115\n"
     ]
    },
    {
     "name": "stderr",
     "output_type": "stream",
     "text": [
      "/var/folders/c6/n52lpdx173scrtd7wybk2_xh0000gn/T/ipykernel_10812/3666351503.py:5: SettingWithCopyWarning: \n",
      "A value is trying to be set on a copy of a slice from a DataFrame.\n",
      "Try using .loc[row_indexer,col_indexer] = value instead\n",
      "\n",
      "See the caveats in the documentation: https://pandas.pydata.org/pandas-docs/stable/user_guide/indexing.html#returning-a-view-versus-a-copy\n",
      "  df['trombo'] = (df.loc[:,'tep']==1) | (df.loc[:,'tvp']==1) | (df.loc[:,'sca']==1) | (df.loc[:,'ictus']==1)\n"
     ]
    }
   ],
   "source": [
    "num_muertos = sum(df.loc[:,'exitus']==1)\n",
    "num_eventtrombo = sum(df.loc[:,'tep']==1) + sum(df.loc[:,'tvp']==1) + sum(df.loc[:,'sca']==1) + sum(df.loc[:,'ictus']==1)\n",
    "print(\"Número pacientes muertos:\",num_muertos)\n",
    "print(\"Eventos trombos:\",num_eventtrombo)\n",
    "df['trombo'] = (df.loc[:,'tep']==1) | (df.loc[:,'tvp']==1) | (df.loc[:,'sca']==1) | (df.loc[:,'ictus']==1)\n"
   ]
  },
  {
   "attachments": {},
   "cell_type": "markdown",
   "metadata": {},
   "source": [
    "eventos trombo(n=115) = TEP, TVP, SCA, ICTUS"
   ]
  },
  {
   "cell_type": "code",
   "execution_count": 214,
   "metadata": {},
   "outputs": [],
   "source": [
    "\n",
    "df_trombo = df.query('trombo==1')\n",
    "df_no_trombo = df.query('tep==0 and tvp==0 and sca==0 and ictus==0')\n"
   ]
  },
  {
   "attachments": {},
   "cell_type": "markdown",
   "metadata": {},
   "source": [
    "Calculamos algunos datos preliminares de df"
   ]
  },
  {
   "cell_type": "code",
   "execution_count": 215,
   "metadata": {},
   "outputs": [
    {
     "name": "stdout",
     "output_type": "stream",
     "text": [
      "EDAD MEDIA = 62.201610022059135\n",
      "Pacientes total = 3064\n",
      "Hombres =  1680 54.83028720626632\n",
      "tabaco = 301 9.823759791122715\n",
      "cancer = 301 9.823759791122715\n",
      "muertos = 626 20.430809399477805\n"
     ]
    }
   ],
   "source": [
    "mean_age = df[\"edad\"].mean()\n",
    "print(\"EDAD MEDIA =\", mean_age)\n",
    "\n",
    "#num_rows = df.count()\n",
    "#print(\"Pacientes sin NaN =\", num_rows)\n",
    "\n",
    "num_rows2 = df.shape[0]\n",
    "print(\"Pacientes total =\", num_rows2)\n",
    "\n",
    "num_valores_sexo_1 = df['sexo'].value_counts()[1]\n",
    "print(\"Hombres = \",num_valores_sexo_1,num_valores_sexo_1*100/num_rows2)\n",
    "\n",
    "tabaco = df['tabaco'].value_counts()[1]\n",
    "print(\"tabaco =\", tabaco,tabaco*100/num_rows2)\n",
    "\n",
    "cancer = df['cancer'].value_counts()[1]\n",
    "print(\"cancer =\", cancer,cancer*100/num_rows2)\n",
    "\n",
    "exitus = df['exitus'].value_counts()[1]\n",
    "print(\"muertos =\", exitus,exitus*100/num_rows2)"
   ]
  },
  {
   "attachments": {},
   "cell_type": "markdown",
   "metadata": {},
   "source": [
    "Calculamos algunos datos preliminares de df_trombo"
   ]
  },
  {
   "cell_type": "code",
   "execution_count": 216,
   "metadata": {},
   "outputs": [
    {
     "name": "stdout",
     "output_type": "stream",
     "text": [
      "EDAD MEDIA = 67.233125214183\n",
      "Pacientes total = 109\n",
      "Hombres =  70 64.22018348623853\n",
      "tabaco = 11 10.091743119266056\n",
      "cancer = 13 11.926605504587156\n",
      "muertos = 42 38.53211009174312\n"
     ]
    }
   ],
   "source": [
    "mean_age = df_trombo[\"edad\"].mean()\n",
    "print(\"EDAD MEDIA =\", mean_age)\n",
    "\n",
    "#num_rows = df.count()\n",
    "#print(\"Pacientes sin NaN =\", num_rows)\n",
    "\n",
    "num_rows2 = df_trombo.shape[0]\n",
    "print(\"Pacientes total =\", num_rows2)\n",
    "\n",
    "num_valores_sexo_1 = df_trombo['sexo'].value_counts()[1]\n",
    "print(\"Hombres = \",num_valores_sexo_1,num_valores_sexo_1*100/num_rows2)\n",
    "\n",
    "tabaco = df_trombo['tabaco'].value_counts()[1]\n",
    "print(\"tabaco =\", tabaco,tabaco*100/num_rows2)\n",
    "\n",
    "cancer = df_trombo['cancer'].value_counts()[1]\n",
    "print(\"cancer =\", cancer,cancer*100/num_rows2)\n",
    "\n",
    "exitus = df_trombo['exitus'].value_counts()[1]\n",
    "print(\"muertos =\", exitus,exitus*100/num_rows2)"
   ]
  },
  {
   "attachments": {},
   "cell_type": "markdown",
   "metadata": {},
   "source": [
    "Calculamos algunos datos preliminares de df_no_trombo"
   ]
  },
  {
   "cell_type": "code",
   "execution_count": 217,
   "metadata": {},
   "outputs": [
    {
     "name": "stdout",
     "output_type": "stream",
     "text": [
      "EDAD MEDIA = 62.016014368610236\n",
      "Pacientes total = 2955\n",
      "Hombres =  1610 54.4839255499154\n",
      "tabaco = 290 9.813874788494077\n",
      "cancer = 288 9.746192893401016\n",
      "muertos = 584 19.76311336717428\n"
     ]
    }
   ],
   "source": [
    "mean_age = df_no_trombo[\"edad\"].mean()\n",
    "print(\"EDAD MEDIA =\", mean_age)\n",
    "\n",
    "#num_rows = df.count()\n",
    "#print(\"Pacientes sin NaN =\", num_rows)\n",
    "\n",
    "num_rows2 = df_no_trombo.shape[0]\n",
    "print(\"Pacientes total =\", num_rows2)\n",
    "\n",
    "num_valores_sexo_1 = df_no_trombo['sexo'].value_counts()[1]\n",
    "print(\"Hombres = \",num_valores_sexo_1,num_valores_sexo_1*100/num_rows2)\n",
    "\n",
    "tabaco = df_no_trombo['tabaco'].value_counts()[1]\n",
    "print(\"tabaco =\", tabaco,tabaco*100/num_rows2)\n",
    "\n",
    "cancer = df_no_trombo['cancer'].value_counts()[1]\n",
    "print(\"cancer =\", cancer,cancer*100/num_rows2)\n",
    "\n",
    "exitus = df_no_trombo['exitus'].value_counts()[1]\n",
    "print(\"muertos =\", exitus,exitus*100/num_rows2)"
   ]
  },
  {
   "attachments": {},
   "cell_type": "markdown",
   "metadata": {},
   "source": [
    "Analisis muertos"
   ]
  },
  {
   "cell_type": "code",
   "execution_count": 218,
   "metadata": {},
   "outputs": [],
   "source": [
    "df_muerto = df.query('exitus==1')\n",
    "df_no_muerto = df.query('exitus==0')"
   ]
  },
  {
   "cell_type": "markdown",
   "metadata": {},
   "source": [
    "Calculamos algunos datos preliminares de df_muerto"
   ]
  },
  {
   "cell_type": "code",
   "execution_count": 219,
   "metadata": {},
   "outputs": [
    {
     "name": "stdout",
     "output_type": "stream",
     "text": [
      "EDAD MEDIA = 80.4536565611252\n",
      "Pacientes total = 626\n",
      "Hombres =  396 63.25878594249201\n",
      "tabaco = 79 12.619808306709265\n",
      "cancer = 111 17.731629392971247\n",
      "muertos = 626 100.0\n"
     ]
    }
   ],
   "source": [
    "mean_age = df_muerto[\"edad\"].mean()\n",
    "print(\"EDAD MEDIA =\", mean_age)\n",
    "\n",
    "#num_rows = df.count()\n",
    "#print(\"Pacientes sin NaN =\", num_rows)\n",
    "\n",
    "num_rows2 = df_muerto.shape[0]\n",
    "print(\"Pacientes total =\", num_rows2)\n",
    "\n",
    "num_valores_sexo_1 = df_muerto['sexo'].value_counts()[1]\n",
    "print(\"Hombres = \",num_valores_sexo_1,num_valores_sexo_1*100/num_rows2)\n",
    "\n",
    "tabaco = df_muerto['tabaco'].value_counts()[1]\n",
    "print(\"tabaco =\", tabaco,tabaco*100/num_rows2)\n",
    "\n",
    "cancer = df_muerto['cancer'].value_counts()[1]\n",
    "print(\"cancer =\", cancer,cancer*100/num_rows2)\n",
    "\n",
    "exitus = df_muerto['exitus'].value_counts()[1]\n",
    "print(\"muertos =\", exitus,exitus*100/num_rows2)"
   ]
  },
  {
   "attachments": {},
   "cell_type": "markdown",
   "metadata": {},
   "source": [
    "Calculamos algunos datos preliminares de df_no_muerto"
   ]
  },
  {
   "cell_type": "code",
   "execution_count": 220,
   "metadata": {},
   "outputs": [
    {
     "name": "stdout",
     "output_type": "stream",
     "text": [
      "EDAD MEDIA = 57.60038374620644\n",
      "Pacientes total = 2416\n",
      "Hombres =  1274 52.7317880794702\n",
      "tabaco = 219 9.064569536423841\n",
      "cancer = 189 7.822847682119205\n"
     ]
    }
   ],
   "source": [
    "mean_age = df_no_muerto[\"edad\"].mean()\n",
    "print(\"EDAD MEDIA =\", mean_age)\n",
    "\n",
    "#num_rows = df.count()\n",
    "#print(\"Pacientes sin NaN =\", num_rows)\n",
    "\n",
    "num_rows2 = df_no_muerto.shape[0]\n",
    "print(\"Pacientes total =\", num_rows2)\n",
    "\n",
    "num_valores_sexo_1 = df_no_muerto['sexo'].value_counts()[1]\n",
    "print(\"Hombres = \",num_valores_sexo_1,num_valores_sexo_1*100/num_rows2)\n",
    "\n",
    "tabaco = df_no_muerto['tabaco'].value_counts()[1]\n",
    "print(\"tabaco =\", tabaco,tabaco*100/num_rows2)\n",
    "\n",
    "cancer = df_no_muerto['cancer'].value_counts()[1]\n",
    "print(\"cancer =\", cancer,cancer*100/num_rows2)\n",
    "\n"
   ]
  },
  {
   "cell_type": "code",
   "execution_count": 221,
   "metadata": {},
   "outputs": [],
   "source": [
    "nombres = df.columns\n",
    "df_sinnan=df\n",
    "for nombre in nombres:\n",
    "  nan_count = df[nombre].isnull().sum()\n",
    "  if nan_count>50:\n",
    "    df_sinnan = df_sinnan.drop(columns=nombre)"
   ]
  },
  {
   "attachments": {},
   "cell_type": "markdown",
   "metadata": {},
   "source": [
    "Modelo regresión lineal"
   ]
  },
  {
   "cell_type": "code",
   "execution_count": 206,
   "metadata": {},
   "outputs": [
    {
     "name": "stdout",
     "output_type": "stream",
     "text": [
      "Coeficiente de determinación (R^2): 0.17033120569105165\n"
     ]
    }
   ],
   "source": [
    "df_m1 = df_sinnan.dropna(subset=['edad', 'sexo', 'tabaco','exitus'])\n",
    "# seleccionar las columnas que quiero usar como variables de entrada y como variable objetivo\n",
    "X = df_m1[['edad', 'sexo', 'tabaco']]\n",
    "y = df_m1['exitus']\n",
    "\n",
    "# dividir los datos en conjuntos de entrenamiento y prueba\n",
    "X_train, X_test, y_train, y_test = train_test_split(X, y, test_size=0.2, random_state=42)\n",
    "\n",
    "# crear el modelo de regresión lineal\n",
    "model = LinearRegression()\n",
    "\n",
    "# entrenar el modelo con los datos de entrenamiento\n",
    "model.fit(X_train, y_train)\n",
    "\n",
    "# hacer predicciones con el conjunto de prueba\n",
    "y_pred = model.predict(X_test)\n",
    "\n",
    "# evaluar el modelo\n",
    "r2_score = model.score(X_test, y_test)\n",
    "print(f'Coeficiente de determinación (R^2): {r2_score}')\n"
   ]
  },
  {
   "attachments": {},
   "cell_type": "markdown",
   "metadata": {},
   "source": [
    "M1 RNA"
   ]
  },
  {
   "cell_type": "code",
   "execution_count": 261,
   "metadata": {},
   "outputs": [
    {
     "name": "stdout",
     "output_type": "stream",
     "text": [
      "Epoch 1/50\n",
      "195/195 [==============================] - 2s 3ms/step - loss: 0.5803 - accuracy: 0.2081 - val_loss: 0.5424 - val_accuracy: 0.1992\n",
      "Epoch 2/50\n",
      "195/195 [==============================] - 0s 2ms/step - loss: 0.5190 - accuracy: 0.2081 - val_loss: 0.4888 - val_accuracy: 0.1992\n",
      "Epoch 3/50\n",
      "195/195 [==============================] - 0s 2ms/step - loss: 0.4779 - accuracy: 0.2081 - val_loss: 0.4503 - val_accuracy: 0.1992\n",
      "Epoch 4/50\n",
      "195/195 [==============================] - 0s 2ms/step - loss: 0.4484 - accuracy: 0.2081 - val_loss: 0.4227 - val_accuracy: 0.1992\n",
      "Epoch 5/50\n",
      "195/195 [==============================] - 0s 2ms/step - loss: 0.4261 - accuracy: 0.2081 - val_loss: 0.4021 - val_accuracy: 0.1992\n",
      "Epoch 6/50\n",
      "195/195 [==============================] - 1s 3ms/step - loss: 0.4096 - accuracy: 0.2081 - val_loss: 0.3863 - val_accuracy: 0.1992\n",
      "Epoch 7/50\n",
      "195/195 [==============================] - 0s 2ms/step - loss: 0.3973 - accuracy: 0.2081 - val_loss: 0.3745 - val_accuracy: 0.1992\n",
      "Epoch 8/50\n",
      "195/195 [==============================] - 0s 2ms/step - loss: 0.3882 - accuracy: 0.2081 - val_loss: 0.3657 - val_accuracy: 0.1992\n",
      "Epoch 9/50\n",
      "195/195 [==============================] - 0s 2ms/step - loss: 0.3813 - accuracy: 0.2081 - val_loss: 0.3585 - val_accuracy: 0.1992\n",
      "Epoch 10/50\n",
      "195/195 [==============================] - 0s 2ms/step - loss: 0.3765 - accuracy: 0.2081 - val_loss: 0.3537 - val_accuracy: 0.1992\n",
      "Epoch 11/50\n",
      "195/195 [==============================] - 0s 2ms/step - loss: 0.3728 - accuracy: 0.2081 - val_loss: 0.3504 - val_accuracy: 0.1992\n",
      "Epoch 12/50\n",
      "195/195 [==============================] - 0s 2ms/step - loss: 0.3700 - accuracy: 0.2081 - val_loss: 0.3475 - val_accuracy: 0.1992\n",
      "Epoch 13/50\n",
      "195/195 [==============================] - 0s 2ms/step - loss: 0.3679 - accuracy: 0.2081 - val_loss: 0.3458 - val_accuracy: 0.1992\n",
      "Epoch 14/50\n",
      "195/195 [==============================] - 0s 2ms/step - loss: 0.3661 - accuracy: 0.2081 - val_loss: 0.3437 - val_accuracy: 0.1992\n",
      "Epoch 15/50\n",
      "195/195 [==============================] - 0s 2ms/step - loss: 0.3644 - accuracy: 0.2081 - val_loss: 0.3426 - val_accuracy: 0.1992\n",
      "Epoch 16/50\n",
      "195/195 [==============================] - 0s 2ms/step - loss: 0.3631 - accuracy: 0.2081 - val_loss: 0.3416 - val_accuracy: 0.1992\n",
      "Epoch 17/50\n",
      "195/195 [==============================] - 0s 2ms/step - loss: 0.3619 - accuracy: 0.2081 - val_loss: 0.3406 - val_accuracy: 0.1992\n",
      "Epoch 18/50\n",
      "195/195 [==============================] - 0s 2ms/step - loss: 0.3608 - accuracy: 0.2081 - val_loss: 0.3402 - val_accuracy: 0.1992\n",
      "Epoch 19/50\n",
      "195/195 [==============================] - 0s 2ms/step - loss: 0.3601 - accuracy: 0.2081 - val_loss: 0.3400 - val_accuracy: 0.1992\n",
      "Epoch 20/50\n",
      "195/195 [==============================] - 0s 2ms/step - loss: 0.3596 - accuracy: 0.2081 - val_loss: 0.3396 - val_accuracy: 0.1992\n",
      "Epoch 21/50\n",
      "195/195 [==============================] - 0s 2ms/step - loss: 0.3593 - accuracy: 0.2081 - val_loss: 0.3398 - val_accuracy: 0.1992\n",
      "Epoch 22/50\n",
      "195/195 [==============================] - 0s 2ms/step - loss: 0.3589 - accuracy: 0.2081 - val_loss: 0.3398 - val_accuracy: 0.1992\n",
      "Epoch 23/50\n",
      "195/195 [==============================] - 0s 2ms/step - loss: 0.3586 - accuracy: 0.2081 - val_loss: 0.3395 - val_accuracy: 0.1992\n",
      "Epoch 24/50\n",
      "195/195 [==============================] - 0s 2ms/step - loss: 0.3584 - accuracy: 0.2081 - val_loss: 0.3395 - val_accuracy: 0.1992\n",
      "Epoch 25/50\n",
      "195/195 [==============================] - 0s 2ms/step - loss: 0.3583 - accuracy: 0.2081 - val_loss: 0.3392 - val_accuracy: 0.1992\n",
      "Epoch 26/50\n",
      "195/195 [==============================] - 0s 2ms/step - loss: 0.3582 - accuracy: 0.2081 - val_loss: 0.3393 - val_accuracy: 0.1992\n",
      "Epoch 27/50\n",
      "195/195 [==============================] - 0s 2ms/step - loss: 0.3579 - accuracy: 0.2081 - val_loss: 0.3393 - val_accuracy: 0.1992\n",
      "Epoch 28/50\n",
      "195/195 [==============================] - 0s 2ms/step - loss: 0.3578 - accuracy: 0.2081 - val_loss: 0.3396 - val_accuracy: 0.1992\n",
      "Epoch 29/50\n",
      "195/195 [==============================] - 0s 2ms/step - loss: 0.3578 - accuracy: 0.2081 - val_loss: 0.3397 - val_accuracy: 0.1992\n",
      "Epoch 30/50\n",
      "195/195 [==============================] - 0s 2ms/step - loss: 0.3577 - accuracy: 0.2081 - val_loss: 0.3397 - val_accuracy: 0.1992\n",
      "Epoch 31/50\n",
      "195/195 [==============================] - 0s 2ms/step - loss: 0.3577 - accuracy: 0.2081 - val_loss: 0.3392 - val_accuracy: 0.1992\n",
      "Epoch 32/50\n",
      "195/195 [==============================] - 0s 2ms/step - loss: 0.3576 - accuracy: 0.2081 - val_loss: 0.3392 - val_accuracy: 0.1992\n",
      "Epoch 33/50\n",
      "195/195 [==============================] - 0s 2ms/step - loss: 0.3576 - accuracy: 0.2081 - val_loss: 0.3395 - val_accuracy: 0.1992\n",
      "Epoch 34/50\n",
      "195/195 [==============================] - 0s 2ms/step - loss: 0.3576 - accuracy: 0.2081 - val_loss: 0.3393 - val_accuracy: 0.1992\n",
      "Epoch 35/50\n",
      "195/195 [==============================] - 0s 2ms/step - loss: 0.3577 - accuracy: 0.2081 - val_loss: 0.3394 - val_accuracy: 0.1992\n",
      "Epoch 36/50\n",
      "195/195 [==============================] - 0s 2ms/step - loss: 0.3576 - accuracy: 0.2081 - val_loss: 0.3395 - val_accuracy: 0.1992\n",
      "Epoch 37/50\n",
      "195/195 [==============================] - 0s 2ms/step - loss: 0.3575 - accuracy: 0.2081 - val_loss: 0.3395 - val_accuracy: 0.1992\n",
      "Epoch 38/50\n",
      "195/195 [==============================] - 0s 2ms/step - loss: 0.3575 - accuracy: 0.2081 - val_loss: 0.3395 - val_accuracy: 0.1992\n",
      "Epoch 39/50\n",
      "195/195 [==============================] - 0s 2ms/step - loss: 0.3574 - accuracy: 0.2081 - val_loss: 0.3395 - val_accuracy: 0.1992\n",
      "Epoch 40/50\n",
      "195/195 [==============================] - 0s 2ms/step - loss: 0.3575 - accuracy: 0.2081 - val_loss: 0.3395 - val_accuracy: 0.1992\n",
      "Epoch 41/50\n",
      "195/195 [==============================] - 0s 2ms/step - loss: 0.3576 - accuracy: 0.2081 - val_loss: 0.3395 - val_accuracy: 0.1992\n",
      "Epoch 42/50\n",
      "195/195 [==============================] - 0s 2ms/step - loss: 0.3575 - accuracy: 0.2081 - val_loss: 0.3393 - val_accuracy: 0.1992\n",
      "Epoch 43/50\n",
      "195/195 [==============================] - 0s 2ms/step - loss: 0.3575 - accuracy: 0.2081 - val_loss: 0.3396 - val_accuracy: 0.1992\n",
      "Epoch 44/50\n",
      "195/195 [==============================] - 0s 2ms/step - loss: 0.3574 - accuracy: 0.2081 - val_loss: 0.3395 - val_accuracy: 0.1992\n",
      "Epoch 45/50\n",
      "195/195 [==============================] - 0s 2ms/step - loss: 0.3573 - accuracy: 0.2081 - val_loss: 0.3393 - val_accuracy: 0.1992\n",
      "Epoch 46/50\n",
      "195/195 [==============================] - 0s 2ms/step - loss: 0.3574 - accuracy: 0.2081 - val_loss: 0.3395 - val_accuracy: 0.1992\n",
      "Epoch 47/50\n",
      "195/195 [==============================] - 0s 2ms/step - loss: 0.3574 - accuracy: 0.2081 - val_loss: 0.3395 - val_accuracy: 0.1992\n",
      "Epoch 48/50\n",
      "195/195 [==============================] - 0s 2ms/step - loss: 0.3575 - accuracy: 0.2081 - val_loss: 0.3395 - val_accuracy: 0.1992\n",
      "Epoch 49/50\n",
      "195/195 [==============================] - 0s 2ms/step - loss: 0.3574 - accuracy: 0.2081 - val_loss: 0.3397 - val_accuracy: 0.1992\n",
      "Epoch 50/50\n",
      "195/195 [==============================] - 0s 2ms/step - loss: 0.3574 - accuracy: 0.2081 - val_loss: 0.3399 - val_accuracy: 0.1992\n"
     ]
    }
   ],
   "source": [
    "df_m2 = df_sinnan.dropna(subset=['edad', 'sexo', 'tabaco','exitus'])\n",
    "# seleccionar las columnas que quiero usar como variables de entrada y como variable objetivo\n",
    "X = df_m2[['edad', 'sexo', 'tabaco']]\n",
    "y = df_m2['exitus']\n",
    "\n",
    "# Dividimos los datos en conjuntos de entrenamiento y prueba\n",
    "X_train, X_test, y_train, y_test = train_test_split(X, y, test_size=0.2, random_state=42)\n",
    "\n",
    "sc = StandardScaler()\n",
    "X_train = sc.fit_transform(X_train)\n",
    "X_test = sc.transform(X_test)\n",
    "\n",
    "# Definimos el modelo\n",
    "model = Sequential()\n",
    "model.add(Dense(2, input_dim=3, activation='relu'))\n",
    "model.add(Dense(1, activation='softmax'))\n",
    "\n",
    "# Compilamos el modelo, especificando la función de pérdida y el optimizador\n",
    "model.compile(loss='binary_crossentropy', optimizer='adam', metrics=['accuracy'])\n",
    "\n",
    "# Entrenamos el modelo utilizando los datos de entrada y salida\n",
    "history = model.fit(X_train, y_train,validation_split=0.2,epochs=50, batch_size=10)\n"
   ]
  },
  {
   "cell_type": "code",
   "execution_count": 262,
   "metadata": {},
   "outputs": [
    {
     "name": "stdout",
     "output_type": "stream",
     "text": [
      "dict_keys(['loss', 'accuracy', 'val_loss', 'val_accuracy'])\n"
     ]
    },
    {
     "data": {
      "image/png": "[encoded data removed]",
      "text/plain": [
       "<Figure size 432x288 with 1 Axes>"
      ]
     },
     "metadata": {
      "needs_background": "light"
     },
     "output_type": "display_data"
    },
    {
     "name": "stdout",
     "output_type": "stream",
     "text": [
      "0.39311644434928894\n"
     ]
    }
   ],
   "source": [
    "print(history.history.keys())\n",
    "# summarize history for loss\n",
    "plt.plot(history.history['loss'])\n",
    "plt.plot(history.history['val_loss'])\n",
    "plt.title('model loss')\n",
    "plt.ylabel('loss')\n",
    "plt.xlabel('epoch')\n",
    "plt.legend(['train', 'val'], loc='upper right')\n",
    "plt.show()\n",
    "# Evaluar el modelo en el conjunto de prueba\n",
    "results = model.evaluate(X_test, y_test, verbose=0)[0]\n",
    "print(results)"
   ]
  },
  {
   "attachments": {},
   "cell_type": "markdown",
   "metadata": {},
   "source": [
    "M2"
   ]
  },
  {
   "cell_type": "code",
   "execution_count": 265,
   "metadata": {},
   "outputs": [
    {
     "name": "stdout",
     "output_type": "stream",
     "text": [
      "Epoch 1/50\n",
      "195/195 [==============================] - 1s 3ms/step - loss: 0.7232 - accuracy: 0.2081 - val_loss: 0.6756 - val_accuracy: 0.1992\n",
      "Epoch 2/50\n",
      "195/195 [==============================] - 0s 2ms/step - loss: 0.6398 - accuracy: 0.2081 - val_loss: 0.6130 - val_accuracy: 0.1992\n",
      "Epoch 3/50\n",
      "195/195 [==============================] - 0s 2ms/step - loss: 0.5881 - accuracy: 0.2081 - val_loss: 0.5635 - val_accuracy: 0.1992\n",
      "Epoch 4/50\n",
      "195/195 [==============================] - 0s 2ms/step - loss: 0.5428 - accuracy: 0.2081 - val_loss: 0.5210 - val_accuracy: 0.1992\n",
      "Epoch 5/50\n",
      "195/195 [==============================] - 0s 2ms/step - loss: 0.5059 - accuracy: 0.2081 - val_loss: 0.4878 - val_accuracy: 0.1992\n",
      "Epoch 6/50\n",
      "195/195 [==============================] - 0s 2ms/step - loss: 0.4758 - accuracy: 0.2081 - val_loss: 0.4573 - val_accuracy: 0.1992\n",
      "Epoch 7/50\n",
      "195/195 [==============================] - 0s 2ms/step - loss: 0.4481 - accuracy: 0.2081 - val_loss: 0.4297 - val_accuracy: 0.1992\n",
      "Epoch 8/50\n",
      "195/195 [==============================] - 0s 2ms/step - loss: 0.4225 - accuracy: 0.2081 - val_loss: 0.4076 - val_accuracy: 0.1992\n",
      "Epoch 9/50\n",
      "195/195 [==============================] - 0s 2ms/step - loss: 0.4031 - accuracy: 0.2081 - val_loss: 0.3914 - val_accuracy: 0.1992\n",
      "Epoch 10/50\n",
      "195/195 [==============================] - 0s 2ms/step - loss: 0.3888 - accuracy: 0.2081 - val_loss: 0.3781 - val_accuracy: 0.1992\n",
      "Epoch 11/50\n",
      "195/195 [==============================] - 0s 2ms/step - loss: 0.3787 - accuracy: 0.2081 - val_loss: 0.3694 - val_accuracy: 0.1992\n",
      "Epoch 12/50\n",
      "195/195 [==============================] - 0s 2ms/step - loss: 0.3713 - accuracy: 0.2081 - val_loss: 0.3630 - val_accuracy: 0.1992\n",
      "Epoch 13/50\n",
      "195/195 [==============================] - 0s 2ms/step - loss: 0.3657 - accuracy: 0.2081 - val_loss: 0.3586 - val_accuracy: 0.1992\n",
      "Epoch 14/50\n",
      "195/195 [==============================] - 0s 2ms/step - loss: 0.3618 - accuracy: 0.2081 - val_loss: 0.3558 - val_accuracy: 0.1992\n",
      "Epoch 15/50\n",
      "195/195 [==============================] - 0s 2ms/step - loss: 0.3588 - accuracy: 0.2081 - val_loss: 0.3540 - val_accuracy: 0.1992\n",
      "Epoch 16/50\n",
      "195/195 [==============================] - 0s 2ms/step - loss: 0.3565 - accuracy: 0.2081 - val_loss: 0.3524 - val_accuracy: 0.1992\n",
      "Epoch 17/50\n",
      "195/195 [==============================] - 0s 2ms/step - loss: 0.3547 - accuracy: 0.2081 - val_loss: 0.3505 - val_accuracy: 0.1992\n",
      "Epoch 18/50\n",
      "195/195 [==============================] - 0s 2ms/step - loss: 0.3532 - accuracy: 0.2081 - val_loss: 0.3501 - val_accuracy: 0.1992\n",
      "Epoch 19/50\n",
      "195/195 [==============================] - 0s 2ms/step - loss: 0.3522 - accuracy: 0.2081 - val_loss: 0.3500 - val_accuracy: 0.1992\n",
      "Epoch 20/50\n",
      "195/195 [==============================] - 0s 2ms/step - loss: 0.3514 - accuracy: 0.2081 - val_loss: 0.3495 - val_accuracy: 0.1992\n",
      "Epoch 21/50\n",
      "195/195 [==============================] - 0s 2ms/step - loss: 0.3509 - accuracy: 0.2081 - val_loss: 0.3492 - val_accuracy: 0.1992\n",
      "Epoch 22/50\n",
      "195/195 [==============================] - 0s 2ms/step - loss: 0.3503 - accuracy: 0.2081 - val_loss: 0.3501 - val_accuracy: 0.1992\n",
      "Epoch 23/50\n",
      "195/195 [==============================] - 0s 2ms/step - loss: 0.3501 - accuracy: 0.2081 - val_loss: 0.3507 - val_accuracy: 0.1992\n",
      "Epoch 24/50\n",
      "195/195 [==============================] - 0s 2ms/step - loss: 0.3498 - accuracy: 0.2081 - val_loss: 0.3501 - val_accuracy: 0.1992\n",
      "Epoch 25/50\n",
      "195/195 [==============================] - 0s 2ms/step - loss: 0.3495 - accuracy: 0.2081 - val_loss: 0.3498 - val_accuracy: 0.1992\n",
      "Epoch 26/50\n",
      "195/195 [==============================] - 0s 2ms/step - loss: 0.3492 - accuracy: 0.2081 - val_loss: 0.3503 - val_accuracy: 0.1992\n",
      "Epoch 27/50\n",
      "195/195 [==============================] - 0s 2ms/step - loss: 0.3491 - accuracy: 0.2081 - val_loss: 0.3505 - val_accuracy: 0.1992\n",
      "Epoch 28/50\n",
      "195/195 [==============================] - 0s 2ms/step - loss: 0.3491 - accuracy: 0.2081 - val_loss: 0.3500 - val_accuracy: 0.1992\n",
      "Epoch 29/50\n",
      "195/195 [==============================] - 0s 2ms/step - loss: 0.3488 - accuracy: 0.2081 - val_loss: 0.3498 - val_accuracy: 0.1992\n",
      "Epoch 30/50\n",
      "195/195 [==============================] - 0s 2ms/step - loss: 0.3489 - accuracy: 0.2081 - val_loss: 0.3496 - val_accuracy: 0.1992\n",
      "Epoch 31/50\n",
      "195/195 [==============================] - 0s 2ms/step - loss: 0.3488 - accuracy: 0.2081 - val_loss: 0.3498 - val_accuracy: 0.1992\n",
      "Epoch 32/50\n",
      "195/195 [==============================] - 0s 2ms/step - loss: 0.3486 - accuracy: 0.2081 - val_loss: 0.3501 - val_accuracy: 0.1992\n",
      "Epoch 33/50\n",
      "195/195 [==============================] - 0s 2ms/step - loss: 0.3485 - accuracy: 0.2081 - val_loss: 0.3497 - val_accuracy: 0.1992\n",
      "Epoch 34/50\n",
      "195/195 [==============================] - 0s 2ms/step - loss: 0.3485 - accuracy: 0.2081 - val_loss: 0.3501 - val_accuracy: 0.1992\n",
      "Epoch 35/50\n",
      "195/195 [==============================] - 0s 2ms/step - loss: 0.3486 - accuracy: 0.2081 - val_loss: 0.3520 - val_accuracy: 0.1992\n",
      "Epoch 36/50\n",
      "195/195 [==============================] - 0s 2ms/step - loss: 0.3485 - accuracy: 0.2081 - val_loss: 0.3506 - val_accuracy: 0.1992\n",
      "Epoch 37/50\n",
      "195/195 [==============================] - 0s 2ms/step - loss: 0.3483 - accuracy: 0.2081 - val_loss: 0.3505 - val_accuracy: 0.1992\n",
      "Epoch 38/50\n",
      "195/195 [==============================] - 0s 2ms/step - loss: 0.3484 - accuracy: 0.2081 - val_loss: 0.3509 - val_accuracy: 0.1992\n",
      "Epoch 39/50\n",
      "195/195 [==============================] - 0s 2ms/step - loss: 0.3483 - accuracy: 0.2081 - val_loss: 0.3506 - val_accuracy: 0.1992\n",
      "Epoch 40/50\n",
      "195/195 [==============================] - 0s 2ms/step - loss: 0.3484 - accuracy: 0.2081 - val_loss: 0.3516 - val_accuracy: 0.1992\n",
      "Epoch 41/50\n",
      "195/195 [==============================] - 0s 2ms/step - loss: 0.3483 - accuracy: 0.2081 - val_loss: 0.3506 - val_accuracy: 0.1992\n",
      "Epoch 42/50\n",
      "195/195 [==============================] - 0s 2ms/step - loss: 0.3483 - accuracy: 0.2081 - val_loss: 0.3513 - val_accuracy: 0.1992\n",
      "Epoch 43/50\n",
      "195/195 [==============================] - 0s 2ms/step - loss: 0.3482 - accuracy: 0.2081 - val_loss: 0.3505 - val_accuracy: 0.1992\n",
      "Epoch 44/50\n",
      "195/195 [==============================] - 0s 2ms/step - loss: 0.3483 - accuracy: 0.2081 - val_loss: 0.3508 - val_accuracy: 0.1992\n",
      "Epoch 45/50\n",
      "195/195 [==============================] - 0s 2ms/step - loss: 0.3481 - accuracy: 0.2081 - val_loss: 0.3507 - val_accuracy: 0.1992\n",
      "Epoch 46/50\n",
      "195/195 [==============================] - 0s 2ms/step - loss: 0.3481 - accuracy: 0.2081 - val_loss: 0.3512 - val_accuracy: 0.1992\n",
      "Epoch 47/50\n",
      "195/195 [==============================] - 0s 2ms/step - loss: 0.3482 - accuracy: 0.2081 - val_loss: 0.3507 - val_accuracy: 0.1992\n",
      "Epoch 48/50\n",
      "195/195 [==============================] - 0s 2ms/step - loss: 0.3480 - accuracy: 0.2081 - val_loss: 0.3513 - val_accuracy: 0.1992\n",
      "Epoch 49/50\n",
      "195/195 [==============================] - 0s 2ms/step - loss: 0.3481 - accuracy: 0.2081 - val_loss: 0.3512 - val_accuracy: 0.1992\n",
      "Epoch 50/50\n",
      "195/195 [==============================] - 0s 2ms/step - loss: 0.3481 - accuracy: 0.2081 - val_loss: 0.3517 - val_accuracy: 0.1992\n"
     ]
    }
   ],
   "source": [
    "df_m2 = df_sinnan.dropna(subset=['edad', 'sexo', 'tabaco','exitus','trombo'])\n",
    "# seleccionar las columnas que quiero usar como variables de entrada y como variable objetivo\n",
    "X = df_m2[['edad', 'sexo', 'tabaco','trombo']]\n",
    "y = df_m2['exitus']\n",
    "\n",
    "# Dividimos los datos en conjuntos de entrenamiento y prueba\n",
    "X_train, X_test, y_train, y_test = train_test_split(X, y, test_size=0.2, random_state=42)\n",
    "\n",
    "sc = StandardScaler()\n",
    "X_train = sc.fit_transform(X_train)\n",
    "X_test = sc.transform(X_test)\n",
    "\n",
    "# Definimos el modelo\n",
    "model = Sequential()\n",
    "model.add(Dense(3, input_dim=4, activation='relu'))\n",
    "model.add(Dense(1, activation='softmax'))\n",
    "\n",
    "# Compilamos el modelo, especificando la función de pérdida y el optimizador\n",
    "model.compile(loss='binary_crossentropy', optimizer='adam', metrics=['accuracy'])\n",
    "\n",
    "# Entrenamos el modelo utilizando los datos de entrada y salida\n",
    "history = model.fit(X_train, y_train,validation_split=0.2,epochs=50, batch_size=10)\n"
   ]
  },
  {
   "cell_type": "code",
   "execution_count": 266,
   "metadata": {},
   "outputs": [
    {
     "name": "stdout",
     "output_type": "stream",
     "text": [
      "dict_keys(['loss', 'accuracy', 'val_loss', 'val_accuracy'])\n"
     ]
    },
    {
     "data": {
      "image/png": "[encoded data removed]",
      "text/plain": [
       "<Figure size 432x288 with 1 Axes>"
      ]
     },
     "metadata": {
      "needs_background": "light"
     },
     "output_type": "display_data"
    },
    {
     "name": "stdout",
     "output_type": "stream",
     "text": [
      "0.3966175317764282\n"
     ]
    }
   ],
   "source": [
    "print(history.history.keys())\n",
    "# summarize history for loss\n",
    "plt.plot(history.history['loss'])\n",
    "plt.plot(history.history['val_loss'])\n",
    "plt.title('model loss')\n",
    "plt.ylabel('loss')\n",
    "plt.xlabel('epoch')\n",
    "plt.legend(['train', 'val'], loc='upper right')\n",
    "plt.show()\n",
    "# Evaluar el modelo en el conjunto de prueba\n",
    "results = model.evaluate(X_test, y_test, verbose=0)[0]\n",
    "print(results)"
   ]
  },
  {
   "attachments": {},
   "cell_type": "markdown",
   "metadata": {},
   "source": [
    "M3"
   ]
  },
  {
   "cell_type": "code",
   "execution_count": 267,
   "metadata": {},
   "outputs": [],
   "source": [
    "df_m2 = df_sinnan.dropna()"
   ]
  },
  {
   "cell_type": "code",
   "execution_count": 269,
   "metadata": {},
   "outputs": [
    {
     "name": "stdout",
     "output_type": "stream",
     "text": [
      "Epoch 1/50\n",
      "234/234 [==============================] - 1s 3ms/step - loss: 0.1997 - accuracy: 0.0389 - val_loss: 0.0187 - val_accuracy: 0.0239\n",
      "Epoch 2/50\n",
      "234/234 [==============================] - 1s 2ms/step - loss: 0.0137 - accuracy: 0.0389 - val_loss: 0.0058 - val_accuracy: 0.0239\n",
      "Epoch 3/50\n",
      "234/234 [==============================] - 1s 2ms/step - loss: 0.0052 - accuracy: 0.0389 - val_loss: 0.0030 - val_accuracy: 0.0239\n",
      "Epoch 4/50\n",
      "234/234 [==============================] - 0s 2ms/step - loss: 0.0028 - accuracy: 0.0389 - val_loss: 0.0018 - val_accuracy: 0.0239\n",
      "Epoch 5/50\n",
      "234/234 [==============================] - 1s 2ms/step - loss: 0.0018 - accuracy: 0.0389 - val_loss: 0.0012 - val_accuracy: 0.0239\n",
      "Epoch 6/50\n",
      "234/234 [==============================] - 1s 2ms/step - loss: 0.0012 - accuracy: 0.0389 - val_loss: 8.9634e-04 - val_accuracy: 0.0239\n",
      "Epoch 7/50\n",
      "234/234 [==============================] - 0s 2ms/step - loss: 8.7928e-04 - accuracy: 0.0389 - val_loss: 6.7853e-04 - val_accuracy: 0.0239\n",
      "Epoch 8/50\n",
      "234/234 [==============================] - 0s 2ms/step - loss: 6.6106e-04 - accuracy: 0.0389 - val_loss: 5.3313e-04 - val_accuracy: 0.0239\n",
      "Epoch 9/50\n",
      "234/234 [==============================] - 0s 2ms/step - loss: 5.1249e-04 - accuracy: 0.0389 - val_loss: 4.2908e-04 - val_accuracy: 0.0239\n",
      "Epoch 10/50\n",
      "234/234 [==============================] - 0s 2ms/step - loss: 4.0515e-04 - accuracy: 0.0389 - val_loss: 3.5153e-04 - val_accuracy: 0.0239\n",
      "Epoch 11/50\n",
      "234/234 [==============================] - 0s 2ms/step - loss: 3.2436e-04 - accuracy: 0.0389 - val_loss: 2.9234e-04 - val_accuracy: 0.0239\n",
      "Epoch 12/50\n",
      "234/234 [==============================] - 1s 2ms/step - loss: 2.6432e-04 - accuracy: 0.0389 - val_loss: 2.4569e-04 - val_accuracy: 0.0239\n",
      "Epoch 13/50\n",
      "234/234 [==============================] - 1s 2ms/step - loss: 2.1894e-04 - accuracy: 0.0389 - val_loss: 2.0870e-04 - val_accuracy: 0.0239\n",
      "Epoch 14/50\n",
      "234/234 [==============================] - 1s 2ms/step - loss: 1.8088e-04 - accuracy: 0.0389 - val_loss: 1.7855e-04 - val_accuracy: 0.0239\n",
      "Epoch 15/50\n",
      "234/234 [==============================] - 0s 2ms/step - loss: 1.5196e-04 - accuracy: 0.0389 - val_loss: 1.5333e-04 - val_accuracy: 0.0239\n",
      "Epoch 16/50\n",
      "234/234 [==============================] - 0s 2ms/step - loss: 1.2821e-04 - accuracy: 0.0389 - val_loss: 1.3279e-04 - val_accuracy: 0.0239\n",
      "Epoch 17/50\n",
      "234/234 [==============================] - 1s 2ms/step - loss: 1.0854e-04 - accuracy: 0.0389 - val_loss: 1.1550e-04 - val_accuracy: 0.0239\n",
      "Epoch 18/50\n",
      "234/234 [==============================] - 0s 2ms/step - loss: 9.2567e-05 - accuracy: 0.0389 - val_loss: 1.0138e-04 - val_accuracy: 0.0239\n",
      "Epoch 19/50\n",
      "234/234 [==============================] - 1s 2ms/step - loss: 7.8740e-05 - accuracy: 0.0389 - val_loss: 8.8833e-05 - val_accuracy: 0.0239\n",
      "Epoch 20/50\n",
      "234/234 [==============================] - 0s 2ms/step - loss: 6.7715e-05 - accuracy: 0.0389 - val_loss: 7.8186e-05 - val_accuracy: 0.0239\n",
      "Epoch 21/50\n",
      "234/234 [==============================] - 1s 2ms/step - loss: 5.8138e-05 - accuracy: 0.0389 - val_loss: 6.9048e-05 - val_accuracy: 0.0239\n",
      "Epoch 22/50\n",
      "234/234 [==============================] - 1s 2ms/step - loss: 5.0236e-05 - accuracy: 0.0389 - val_loss: 6.0782e-05 - val_accuracy: 0.0239\n",
      "Epoch 23/50\n",
      "234/234 [==============================] - 1s 2ms/step - loss: 4.3346e-05 - accuracy: 0.0389 - val_loss: 5.4136e-05 - val_accuracy: 0.0239\n",
      "Epoch 24/50\n",
      "234/234 [==============================] - 1s 2ms/step - loss: 3.7477e-05 - accuracy: 0.0389 - val_loss: 4.7825e-05 - val_accuracy: 0.0239\n",
      "Epoch 25/50\n",
      "234/234 [==============================] - 0s 2ms/step - loss: 3.2526e-05 - accuracy: 0.0389 - val_loss: 4.2321e-05 - val_accuracy: 0.0239\n",
      "Epoch 26/50\n",
      "234/234 [==============================] - 0s 2ms/step - loss: 2.8260e-05 - accuracy: 0.0389 - val_loss: 3.7759e-05 - val_accuracy: 0.0239\n",
      "Epoch 27/50\n",
      "234/234 [==============================] - 1s 2ms/step - loss: 2.4615e-05 - accuracy: 0.0389 - val_loss: 3.3417e-05 - val_accuracy: 0.0239\n",
      "Epoch 28/50\n",
      "234/234 [==============================] - 0s 2ms/step - loss: 2.1395e-05 - accuracy: 0.0389 - val_loss: 2.9841e-05 - val_accuracy: 0.0239\n",
      "Epoch 29/50\n",
      "234/234 [==============================] - 0s 2ms/step - loss: 1.8690e-05 - accuracy: 0.0389 - val_loss: 2.6538e-05 - val_accuracy: 0.0239\n",
      "Epoch 30/50\n",
      "234/234 [==============================] - 0s 2ms/step - loss: 1.6272e-05 - accuracy: 0.0389 - val_loss: 2.3689e-05 - val_accuracy: 0.0239\n",
      "Epoch 31/50\n",
      "234/234 [==============================] - 0s 2ms/step - loss: 1.4234e-05 - accuracy: 0.0389 - val_loss: 2.1143e-05 - val_accuracy: 0.0239\n",
      "Epoch 32/50\n",
      "234/234 [==============================] - 0s 2ms/step - loss: 1.2413e-05 - accuracy: 0.0389 - val_loss: 1.8869e-05 - val_accuracy: 0.0239\n",
      "Epoch 33/50\n",
      "234/234 [==============================] - 1s 2ms/step - loss: 1.0887e-05 - accuracy: 0.0389 - val_loss: 1.6934e-05 - val_accuracy: 0.0239\n",
      "Epoch 34/50\n",
      "234/234 [==============================] - 1s 2ms/step - loss: 9.4970e-06 - accuracy: 0.0389 - val_loss: 1.5165e-05 - val_accuracy: 0.0239\n",
      "Epoch 35/50\n",
      "234/234 [==============================] - 1s 2ms/step - loss: 8.3455e-06 - accuracy: 0.0389 - val_loss: 1.3543e-05 - val_accuracy: 0.0239\n",
      "Epoch 36/50\n",
      "234/234 [==============================] - 1s 3ms/step - loss: 7.3265e-06 - accuracy: 0.0389 - val_loss: 1.2164e-05 - val_accuracy: 0.0239\n",
      "Epoch 37/50\n",
      "234/234 [==============================] - 1s 2ms/step - loss: 6.3969e-06 - accuracy: 0.0389 - val_loss: 1.0881e-05 - val_accuracy: 0.0239\n",
      "Epoch 38/50\n",
      "234/234 [==============================] - 0s 2ms/step - loss: 5.6061e-06 - accuracy: 0.0389 - val_loss: 9.7502e-06 - val_accuracy: 0.0239\n",
      "Epoch 39/50\n",
      "234/234 [==============================] - 0s 2ms/step - loss: 4.9109e-06 - accuracy: 0.0389 - val_loss: 8.7908e-06 - val_accuracy: 0.0239\n",
      "Epoch 40/50\n",
      "234/234 [==============================] - 0s 2ms/step - loss: 4.3216e-06 - accuracy: 0.0389 - val_loss: 7.8557e-06 - val_accuracy: 0.0239\n",
      "Epoch 41/50\n",
      "234/234 [==============================] - 0s 2ms/step - loss: 3.7919e-06 - accuracy: 0.0389 - val_loss: 7.0574e-06 - val_accuracy: 0.0239\n",
      "Epoch 42/50\n",
      "234/234 [==============================] - 0s 2ms/step - loss: 3.3306e-06 - accuracy: 0.0389 - val_loss: 6.3468e-06 - val_accuracy: 0.0239\n",
      "Epoch 43/50\n",
      "234/234 [==============================] - 0s 2ms/step - loss: 2.9204e-06 - accuracy: 0.0389 - val_loss: 5.6634e-06 - val_accuracy: 0.0239\n",
      "Epoch 44/50\n",
      "234/234 [==============================] - 0s 2ms/step - loss: 2.5704e-06 - accuracy: 0.0389 - val_loss: 5.1044e-06 - val_accuracy: 0.0239\n",
      "Epoch 45/50\n",
      "234/234 [==============================] - 0s 2ms/step - loss: 2.2559e-06 - accuracy: 0.0389 - val_loss: 4.5805e-06 - val_accuracy: 0.0239\n",
      "Epoch 46/50\n",
      "234/234 [==============================] - 0s 2ms/step - loss: 1.9800e-06 - accuracy: 0.0389 - val_loss: 4.0714e-06 - val_accuracy: 0.0239\n",
      "Epoch 47/50\n",
      "234/234 [==============================] - 1s 2ms/step - loss: 1.7434e-06 - accuracy: 0.0389 - val_loss: 3.6446e-06 - val_accuracy: 0.0239\n",
      "Epoch 48/50\n",
      "234/234 [==============================] - 0s 2ms/step - loss: 1.5303e-06 - accuracy: 0.0389 - val_loss: 3.2941e-06 - val_accuracy: 0.0239\n",
      "Epoch 49/50\n",
      "234/234 [==============================] - 0s 2ms/step - loss: 1.3506e-06 - accuracy: 0.0389 - val_loss: 2.9623e-06 - val_accuracy: 0.0239\n",
      "Epoch 50/50\n",
      "234/234 [==============================] - 0s 2ms/step - loss: 1.1841e-06 - accuracy: 0.0389 - val_loss: 2.6462e-06 - val_accuracy: 0.0239\n"
     ]
    }
   ],
   "source": [
    "# seleccionar las columnas que quiero usar como variables de entrada y como variable objetivo\n",
    "X = df_m2.drop(columns='trombo')\n",
    "y = df_m2['trombo']\n",
    "\n",
    "sc = StandardScaler()\n",
    "X = sc.fit_transform(X)\n",
    "\n",
    "# Definimos el modelo\n",
    "model = Sequential()\n",
    "model.add(Dense(44, input_dim=87, activation='relu'))\n",
    "model.add(Dense(1, activation='softmax'))\n",
    "\n",
    "# Compilamos el modelo, especificando la función de pérdida y el optimizador\n",
    "model.compile(loss='binary_crossentropy', optimizer='adam', metrics=['accuracy'])\n",
    "\n",
    "# Entrenamos el modelo utilizando los datos de entrada y salida\n",
    "history = model.fit(X, y,validation_split=0.2,epochs=50, batch_size=10)"
   ]
  },
  {
   "cell_type": "code",
   "execution_count": 271,
   "metadata": {},
   "outputs": [
    {
     "name": "stdout",
     "output_type": "stream",
     "text": [
      "dict_keys(['loss', 'accuracy', 'val_loss', 'val_accuracy'])\n"
     ]
    },
    {
     "data": {
      "image/png": "[encoded data removed]",
      "text/plain": [
       "<Figure size 432x288 with 1 Axes>"
      ]
     },
     "metadata": {
      "needs_background": "light"
     },
     "output_type": "display_data"
    }
   ],
   "source": [
    "print(history.history.keys())\n",
    "# summarize history for loss\n",
    "plt.plot(history.history['loss'])\n",
    "plt.plot(history.history['val_loss'])\n",
    "plt.title('model loss')\n",
    "plt.ylabel('loss')\n",
    "plt.xlabel('epoch')\n",
    "plt.legend(['train', 'val'], loc='upper right')\n",
    "plt.show()"
   ]
  },
  {
   "attachments": {},
   "cell_type": "markdown",
   "metadata": {},
   "source": [
    "M4"
   ]
  },
  {
   "cell_type": "code",
   "execution_count": 279,
   "metadata": {},
   "outputs": [],
   "source": [
    "seguido1 = np.arange(0,6,1)\n",
    "seguido2 = np.arange(7,10,1)\n",
    "seguido3 = np.arange(11,18,1)\n",
    "seguido4 = np.arange(19,28,1)\n",
    "seguido5 = np.arange(49,54,1)\n",
    "seguido6 = np.arange(74,77,1)\n",
    "c = np.concatenate((seguido1,seguido2,seguido3,seguido4,[34],[36],[39],[45],seguido5,[71],seguido6,[87]))\n",
    "df = df_m2.iloc[:,c]"
   ]
  },
  {
   "cell_type": "code",
   "execution_count": 280,
   "metadata": {},
   "outputs": [
    {
     "name": "stdout",
     "output_type": "stream",
     "text": [
      "Epoch 1/50\n",
      "234/234 [==============================] - 1s 3ms/step - loss: 0.9367 - accuracy: 0.0389 - val_loss: 0.4986 - val_accuracy: 0.0239\n",
      "Epoch 2/50\n",
      "234/234 [==============================] - 0s 2ms/step - loss: 0.3135 - accuracy: 0.0389 - val_loss: 0.1949 - val_accuracy: 0.0239\n",
      "Epoch 3/50\n",
      "234/234 [==============================] - 1s 2ms/step - loss: 0.1808 - accuracy: 0.0389 - val_loss: 0.1244 - val_accuracy: 0.0239\n",
      "Epoch 4/50\n",
      "234/234 [==============================] - 1s 3ms/step - loss: 0.1498 - accuracy: 0.0389 - val_loss: 0.1100 - val_accuracy: 0.0239\n",
      "Epoch 5/50\n",
      "234/234 [==============================] - 0s 2ms/step - loss: 0.1393 - accuracy: 0.0389 - val_loss: 0.1051 - val_accuracy: 0.0239\n",
      "Epoch 6/50\n",
      "234/234 [==============================] - 0s 2ms/step - loss: 0.1343 - accuracy: 0.0389 - val_loss: 0.1014 - val_accuracy: 0.0239\n",
      "Epoch 7/50\n",
      "234/234 [==============================] - 0s 2ms/step - loss: 0.1318 - accuracy: 0.0389 - val_loss: 0.1007 - val_accuracy: 0.0239\n",
      "Epoch 8/50\n",
      "234/234 [==============================] - 1s 4ms/step - loss: 0.1296 - accuracy: 0.0389 - val_loss: 0.1006 - val_accuracy: 0.0239\n",
      "Epoch 9/50\n",
      "234/234 [==============================] - 1s 5ms/step - loss: 0.1276 - accuracy: 0.0389 - val_loss: 0.1000 - val_accuracy: 0.0239\n",
      "Epoch 10/50\n",
      "234/234 [==============================] - 2s 7ms/step - loss: 0.1261 - accuracy: 0.0389 - val_loss: 0.0998 - val_accuracy: 0.0239\n",
      "Epoch 11/50\n",
      "234/234 [==============================] - 1s 4ms/step - loss: 0.1245 - accuracy: 0.0389 - val_loss: 0.0994 - val_accuracy: 0.0239\n",
      "Epoch 12/50\n",
      "234/234 [==============================] - 1s 4ms/step - loss: 0.1234 - accuracy: 0.0389 - val_loss: 0.1001 - val_accuracy: 0.0239\n",
      "Epoch 13/50\n",
      "234/234 [==============================] - 1s 3ms/step - loss: 0.1220 - accuracy: 0.0389 - val_loss: 0.0991 - val_accuracy: 0.0239\n",
      "Epoch 14/50\n",
      "234/234 [==============================] - 1s 3ms/step - loss: 0.1206 - accuracy: 0.0389 - val_loss: 0.0984 - val_accuracy: 0.0239\n",
      "Epoch 15/50\n",
      "234/234 [==============================] - 1s 3ms/step - loss: 0.1193 - accuracy: 0.0389 - val_loss: 0.0987 - val_accuracy: 0.0239\n",
      "Epoch 16/50\n",
      "234/234 [==============================] - 1s 3ms/step - loss: 0.1176 - accuracy: 0.0389 - val_loss: 0.0985 - val_accuracy: 0.0239\n",
      "Epoch 17/50\n",
      "234/234 [==============================] - 1s 3ms/step - loss: 0.1163 - accuracy: 0.0389 - val_loss: 0.0982 - val_accuracy: 0.0239\n",
      "Epoch 18/50\n",
      "234/234 [==============================] - 1s 5ms/step - loss: 0.1150 - accuracy: 0.0389 - val_loss: 0.0979 - val_accuracy: 0.0239\n",
      "Epoch 19/50\n",
      "234/234 [==============================] - 1s 5ms/step - loss: 0.1139 - accuracy: 0.0389 - val_loss: 0.0980 - val_accuracy: 0.0239\n",
      "Epoch 20/50\n",
      "234/234 [==============================] - 1s 3ms/step - loss: 0.1127 - accuracy: 0.0389 - val_loss: 0.0976 - val_accuracy: 0.0239\n",
      "Epoch 21/50\n",
      "234/234 [==============================] - 1s 3ms/step - loss: 0.1115 - accuracy: 0.0389 - val_loss: 0.0989 - val_accuracy: 0.0239\n",
      "Epoch 22/50\n",
      "234/234 [==============================] - 1s 4ms/step - loss: 0.1107 - accuracy: 0.0389 - val_loss: 0.0971 - val_accuracy: 0.0239\n",
      "Epoch 23/50\n",
      "234/234 [==============================] - 1s 3ms/step - loss: 0.1095 - accuracy: 0.0389 - val_loss: 0.0972 - val_accuracy: 0.0239\n",
      "Epoch 24/50\n",
      "234/234 [==============================] - 1s 2ms/step - loss: 0.1080 - accuracy: 0.0389 - val_loss: 0.0980 - val_accuracy: 0.0239\n",
      "Epoch 25/50\n",
      "234/234 [==============================] - 1s 2ms/step - loss: 0.1075 - accuracy: 0.0389 - val_loss: 0.0970 - val_accuracy: 0.0239\n",
      "Epoch 26/50\n",
      "234/234 [==============================] - 1s 2ms/step - loss: 0.1060 - accuracy: 0.0389 - val_loss: 0.0969 - val_accuracy: 0.0239\n",
      "Epoch 27/50\n",
      "234/234 [==============================] - 1s 2ms/step - loss: 0.1061 - accuracy: 0.0389 - val_loss: 0.0972 - val_accuracy: 0.0239\n",
      "Epoch 28/50\n",
      "234/234 [==============================] - 0s 2ms/step - loss: 0.1046 - accuracy: 0.0389 - val_loss: 0.0972 - val_accuracy: 0.0239\n",
      "Epoch 29/50\n",
      "234/234 [==============================] - 1s 2ms/step - loss: 0.1034 - accuracy: 0.0389 - val_loss: 0.0978 - val_accuracy: 0.0239\n",
      "Epoch 30/50\n",
      "234/234 [==============================] - 1s 2ms/step - loss: 0.1022 - accuracy: 0.0389 - val_loss: 0.0982 - val_accuracy: 0.0239\n",
      "Epoch 31/50\n",
      "234/234 [==============================] - 1s 2ms/step - loss: 0.1017 - accuracy: 0.0389 - val_loss: 0.0982 - val_accuracy: 0.0239\n",
      "Epoch 32/50\n",
      "234/234 [==============================] - 1s 3ms/step - loss: 0.1003 - accuracy: 0.0389 - val_loss: 0.0978 - val_accuracy: 0.0239\n",
      "Epoch 33/50\n",
      "234/234 [==============================] - 1s 3ms/step - loss: 0.0997 - accuracy: 0.0389 - val_loss: 0.0978 - val_accuracy: 0.0239\n",
      "Epoch 34/50\n",
      "234/234 [==============================] - 1s 4ms/step - loss: 0.0988 - accuracy: 0.0389 - val_loss: 0.0987 - val_accuracy: 0.0239\n",
      "Epoch 35/50\n",
      "234/234 [==============================] - 1s 4ms/step - loss: 0.0979 - accuracy: 0.0389 - val_loss: 0.0995 - val_accuracy: 0.0239\n",
      "Epoch 36/50\n",
      "234/234 [==============================] - 1s 3ms/step - loss: 0.0968 - accuracy: 0.0389 - val_loss: 0.0986 - val_accuracy: 0.0239\n",
      "Epoch 37/50\n",
      "234/234 [==============================] - 1s 2ms/step - loss: 0.0962 - accuracy: 0.0389 - val_loss: 0.0979 - val_accuracy: 0.0239\n",
      "Epoch 38/50\n",
      "234/234 [==============================] - 0s 2ms/step - loss: 0.0960 - accuracy: 0.0389 - val_loss: 0.0998 - val_accuracy: 0.0239\n",
      "Epoch 39/50\n",
      "234/234 [==============================] - 1s 2ms/step - loss: 0.0943 - accuracy: 0.0389 - val_loss: 0.0988 - val_accuracy: 0.0239\n",
      "Epoch 40/50\n",
      "234/234 [==============================] - 0s 2ms/step - loss: 0.0938 - accuracy: 0.0389 - val_loss: 0.0999 - val_accuracy: 0.0239\n",
      "Epoch 41/50\n",
      "234/234 [==============================] - 1s 2ms/step - loss: 0.0934 - accuracy: 0.0389 - val_loss: 0.1014 - val_accuracy: 0.0239\n",
      "Epoch 42/50\n",
      "234/234 [==============================] - 1s 2ms/step - loss: 0.0930 - accuracy: 0.0389 - val_loss: 0.1007 - val_accuracy: 0.0239\n",
      "Epoch 43/50\n",
      "234/234 [==============================] - 1s 2ms/step - loss: 0.0926 - accuracy: 0.0389 - val_loss: 0.1005 - val_accuracy: 0.0239\n",
      "Epoch 44/50\n",
      "234/234 [==============================] - 0s 2ms/step - loss: 0.0913 - accuracy: 0.0389 - val_loss: 0.0996 - val_accuracy: 0.0239\n",
      "Epoch 45/50\n",
      "234/234 [==============================] - 1s 2ms/step - loss: 0.0910 - accuracy: 0.0389 - val_loss: 0.1007 - val_accuracy: 0.0239\n",
      "Epoch 46/50\n",
      "234/234 [==============================] - 0s 2ms/step - loss: 0.0901 - accuracy: 0.0389 - val_loss: 0.1002 - val_accuracy: 0.0239\n",
      "Epoch 47/50\n",
      "234/234 [==============================] - 0s 2ms/step - loss: 0.0897 - accuracy: 0.0389 - val_loss: 0.1019 - val_accuracy: 0.0239\n",
      "Epoch 48/50\n",
      "234/234 [==============================] - 0s 2ms/step - loss: 0.0885 - accuracy: 0.0389 - val_loss: 0.1026 - val_accuracy: 0.0239\n",
      "Epoch 49/50\n",
      "234/234 [==============================] - 1s 2ms/step - loss: 0.0884 - accuracy: 0.0389 - val_loss: 0.1014 - val_accuracy: 0.0239\n",
      "Epoch 50/50\n",
      "234/234 [==============================] - 0s 2ms/step - loss: 0.0873 - accuracy: 0.0389 - val_loss: 0.1012 - val_accuracy: 0.0239\n"
     ]
    }
   ],
   "source": [
    "# seleccionar las columnas que quiero usar como variables de entrada y como variable objetivo\n",
    "X = df.drop(columns='trombo')\n",
    "y = df['trombo']\n",
    "\n",
    "sc = StandardScaler()\n",
    "X = sc.fit_transform(X)\n",
    "\n",
    "# Definimos el modelo\n",
    "model = Sequential()\n",
    "model.add(Dense(20, input_dim=38, activation='relu'))\n",
    "model.add(Dense(1, activation='softmax'))\n",
    "\n",
    "# Compilamos el modelo, especificando la función de pérdida y el optimizador\n",
    "model.compile(loss='binary_crossentropy', optimizer='adam', metrics=['accuracy'])\n",
    "\n",
    "# Entrenamos el modelo utilizando los datos de entrada y salida\n",
    "history = model.fit(X, y,validation_split=0.2,epochs=50, batch_size=10)"
   ]
  },
  {
   "cell_type": "code",
   "execution_count": 281,
   "metadata": {},
   "outputs": [
    {
     "name": "stdout",
     "output_type": "stream",
     "text": [
      "dict_keys(['loss', 'accuracy', 'val_loss', 'val_accuracy'])\n"
     ]
    },
    {
     "data": {
      "image/png": "[encoded data removed]",
      "text/plain": [
       "<Figure size 432x288 with 1 Axes>"
      ]
     },
     "metadata": {
      "needs_background": "light"
     },
     "output_type": "display_data"
    }
   ],
   "source": [
    "print(history.history.keys())\n",
    "# summarize history for loss\n",
    "plt.plot(history.history['loss'])\n",
    "plt.plot(history.history['val_loss'])\n",
    "plt.title('model loss')\n",
    "plt.ylabel('loss')\n",
    "plt.xlabel('epoch')\n",
    "plt.legend(['train', 'val'], loc='upper right')\n",
    "plt.show()"
   ]
  },
  {
   "attachments": {},
   "cell_type": "markdown",
   "metadata": {},
   "source": [
    "M5"
   ]
  },
  {
   "cell_type": "code",
   "execution_count": 282,
   "metadata": {},
   "outputs": [
    {
     "name": "stdout",
     "output_type": "stream",
     "text": [
      "Epoch 1/50\n",
      "234/234 [==============================] - 2s 3ms/step - loss: 0.2009 - accuracy: 0.9363 - val_loss: 0.0674 - val_accuracy: 0.9761\n",
      "Epoch 2/50\n",
      "234/234 [==============================] - 1s 2ms/step - loss: 0.0605 - accuracy: 0.9611 - val_loss: 0.0340 - val_accuracy: 0.9761\n",
      "Epoch 3/50\n",
      "234/234 [==============================] - 1s 4ms/step - loss: 0.0457 - accuracy: 0.9611 - val_loss: 0.0284 - val_accuracy: 0.9761\n",
      "Epoch 4/50\n",
      "234/234 [==============================] - 1s 3ms/step - loss: 0.0421 - accuracy: 0.9611 - val_loss: 0.0264 - val_accuracy: 0.9761\n",
      "Epoch 5/50\n",
      "234/234 [==============================] - 0s 2ms/step - loss: 0.0406 - accuracy: 0.9615 - val_loss: 0.0255 - val_accuracy: 0.9761\n",
      "Epoch 6/50\n",
      "234/234 [==============================] - 1s 2ms/step - loss: 0.0398 - accuracy: 0.9615 - val_loss: 0.0251 - val_accuracy: 0.9761\n",
      "Epoch 7/50\n",
      "234/234 [==============================] - 1s 3ms/step - loss: 0.0394 - accuracy: 0.9615 - val_loss: 0.0247 - val_accuracy: 0.9761\n",
      "Epoch 8/50\n",
      "234/234 [==============================] - 0s 2ms/step - loss: 0.0390 - accuracy: 0.9619 - val_loss: 0.0246 - val_accuracy: 0.9761\n",
      "Epoch 9/50\n",
      "234/234 [==============================] - 1s 2ms/step - loss: 0.0387 - accuracy: 0.9619 - val_loss: 0.0244 - val_accuracy: 0.9761\n",
      "Epoch 10/50\n",
      "234/234 [==============================] - 1s 2ms/step - loss: 0.0384 - accuracy: 0.9619 - val_loss: 0.0243 - val_accuracy: 0.9761\n",
      "Epoch 11/50\n",
      "234/234 [==============================] - 1s 2ms/step - loss: 0.0382 - accuracy: 0.9624 - val_loss: 0.0242 - val_accuracy: 0.9761\n",
      "Epoch 12/50\n",
      "234/234 [==============================] - 1s 3ms/step - loss: 0.0380 - accuracy: 0.9624 - val_loss: 0.0242 - val_accuracy: 0.9761\n",
      "Epoch 13/50\n",
      "234/234 [==============================] - 0s 2ms/step - loss: 0.0379 - accuracy: 0.9624 - val_loss: 0.0241 - val_accuracy: 0.9761\n",
      "Epoch 14/50\n",
      "234/234 [==============================] - 1s 2ms/step - loss: 0.0377 - accuracy: 0.9624 - val_loss: 0.0241 - val_accuracy: 0.9761\n",
      "Epoch 15/50\n",
      "234/234 [==============================] - 1s 2ms/step - loss: 0.0376 - accuracy: 0.9632 - val_loss: 0.0241 - val_accuracy: 0.9761\n",
      "Epoch 16/50\n",
      "234/234 [==============================] - 1s 2ms/step - loss: 0.0374 - accuracy: 0.9632 - val_loss: 0.0241 - val_accuracy: 0.9761\n",
      "Epoch 17/50\n",
      "234/234 [==============================] - 1s 2ms/step - loss: 0.0373 - accuracy: 0.9632 - val_loss: 0.0240 - val_accuracy: 0.9761\n",
      "Epoch 18/50\n",
      "234/234 [==============================] - 1s 2ms/step - loss: 0.0373 - accuracy: 0.9628 - val_loss: 0.0240 - val_accuracy: 0.9761\n",
      "Epoch 19/50\n",
      "234/234 [==============================] - 1s 3ms/step - loss: 0.0371 - accuracy: 0.9632 - val_loss: 0.0240 - val_accuracy: 0.9761\n",
      "Epoch 20/50\n",
      "234/234 [==============================] - 0s 2ms/step - loss: 0.0371 - accuracy: 0.9632 - val_loss: 0.0240 - val_accuracy: 0.9761\n",
      "Epoch 21/50\n",
      "234/234 [==============================] - 1s 2ms/step - loss: 0.0370 - accuracy: 0.9632 - val_loss: 0.0240 - val_accuracy: 0.9761\n",
      "Epoch 22/50\n",
      "234/234 [==============================] - 1s 2ms/step - loss: 0.0370 - accuracy: 0.9632 - val_loss: 0.0240 - val_accuracy: 0.9761\n",
      "Epoch 23/50\n",
      "234/234 [==============================] - 1s 2ms/step - loss: 0.0370 - accuracy: 0.9632 - val_loss: 0.0240 - val_accuracy: 0.9761\n",
      "Epoch 24/50\n",
      "234/234 [==============================] - 0s 2ms/step - loss: 0.0369 - accuracy: 0.9632 - val_loss: 0.0240 - val_accuracy: 0.9761\n",
      "Epoch 25/50\n",
      "234/234 [==============================] - 0s 2ms/step - loss: 0.0369 - accuracy: 0.9632 - val_loss: 0.0240 - val_accuracy: 0.9761\n",
      "Epoch 26/50\n",
      "234/234 [==============================] - 0s 2ms/step - loss: 0.0369 - accuracy: 0.9632 - val_loss: 0.0240 - val_accuracy: 0.9761\n",
      "Epoch 27/50\n",
      "234/234 [==============================] - 1s 2ms/step - loss: 0.0369 - accuracy: 0.9632 - val_loss: 0.0240 - val_accuracy: 0.9761\n",
      "Epoch 28/50\n",
      "234/234 [==============================] - 1s 2ms/step - loss: 0.0369 - accuracy: 0.9632 - val_loss: 0.0240 - val_accuracy: 0.9761\n",
      "Epoch 29/50\n",
      "234/234 [==============================] - 0s 2ms/step - loss: 0.0369 - accuracy: 0.9632 - val_loss: 0.0239 - val_accuracy: 0.9761\n",
      "Epoch 30/50\n",
      "234/234 [==============================] - 0s 2ms/step - loss: 0.0368 - accuracy: 0.9632 - val_loss: 0.0239 - val_accuracy: 0.9761\n",
      "Epoch 31/50\n",
      "234/234 [==============================] - 0s 2ms/step - loss: 0.0368 - accuracy: 0.9632 - val_loss: 0.0239 - val_accuracy: 0.9761\n",
      "Epoch 32/50\n",
      "234/234 [==============================] - 1s 2ms/step - loss: 0.0368 - accuracy: 0.9632 - val_loss: 0.0239 - val_accuracy: 0.9761\n",
      "Epoch 33/50\n",
      "234/234 [==============================] - 1s 2ms/step - loss: 0.0368 - accuracy: 0.9632 - val_loss: 0.0239 - val_accuracy: 0.9761\n",
      "Epoch 34/50\n",
      "234/234 [==============================] - 1s 2ms/step - loss: 0.0368 - accuracy: 0.9632 - val_loss: 0.0239 - val_accuracy: 0.9761\n",
      "Epoch 35/50\n",
      "234/234 [==============================] - 0s 2ms/step - loss: 0.0368 - accuracy: 0.9632 - val_loss: 0.0239 - val_accuracy: 0.9761\n",
      "Epoch 36/50\n",
      "234/234 [==============================] - 0s 2ms/step - loss: 0.0368 - accuracy: 0.9632 - val_loss: 0.0239 - val_accuracy: 0.9761\n",
      "Epoch 37/50\n",
      "234/234 [==============================] - 0s 2ms/step - loss: 0.0368 - accuracy: 0.9632 - val_loss: 0.0239 - val_accuracy: 0.9761\n",
      "Epoch 38/50\n",
      "234/234 [==============================] - 1s 2ms/step - loss: 0.0368 - accuracy: 0.9632 - val_loss: 0.0239 - val_accuracy: 0.9761\n",
      "Epoch 39/50\n",
      "234/234 [==============================] - 0s 2ms/step - loss: 0.0368 - accuracy: 0.9632 - val_loss: 0.0239 - val_accuracy: 0.9761\n",
      "Epoch 40/50\n",
      "234/234 [==============================] - 1s 2ms/step - loss: 0.0368 - accuracy: 0.9632 - val_loss: 0.0239 - val_accuracy: 0.9761\n",
      "Epoch 41/50\n",
      "234/234 [==============================] - 1s 2ms/step - loss: 0.0368 - accuracy: 0.9632 - val_loss: 0.0239 - val_accuracy: 0.9761\n",
      "Epoch 42/50\n",
      "234/234 [==============================] - 1s 2ms/step - loss: 0.0368 - accuracy: 0.9632 - val_loss: 0.0239 - val_accuracy: 0.9761\n",
      "Epoch 43/50\n",
      "234/234 [==============================] - 1s 3ms/step - loss: 0.0368 - accuracy: 0.9632 - val_loss: 0.0239 - val_accuracy: 0.9761\n",
      "Epoch 44/50\n",
      "234/234 [==============================] - 1s 3ms/step - loss: 0.0368 - accuracy: 0.9632 - val_loss: 0.0239 - val_accuracy: 0.9761\n",
      "Epoch 45/50\n",
      "234/234 [==============================] - 1s 3ms/step - loss: 0.0368 - accuracy: 0.9632 - val_loss: 0.0239 - val_accuracy: 0.9761\n",
      "Epoch 46/50\n",
      "234/234 [==============================] - 1s 2ms/step - loss: 0.0365 - accuracy: 0.9636 - val_loss: 0.0239 - val_accuracy: 0.9761\n",
      "Epoch 47/50\n",
      "234/234 [==============================] - 1s 2ms/step - loss: 0.0365 - accuracy: 0.9641 - val_loss: 0.0239 - val_accuracy: 0.9761\n",
      "Epoch 48/50\n",
      "234/234 [==============================] - 1s 3ms/step - loss: 0.0359 - accuracy: 0.9645 - val_loss: 0.0239 - val_accuracy: 0.9761\n",
      "Epoch 49/50\n",
      "234/234 [==============================] - 1s 2ms/step - loss: 0.0359 - accuracy: 0.9645 - val_loss: 0.0239 - val_accuracy: 0.9761\n",
      "Epoch 50/50\n",
      "234/234 [==============================] - 1s 2ms/step - loss: 0.0357 - accuracy: 0.9645 - val_loss: 0.0239 - val_accuracy: 0.9761\n"
     ]
    }
   ],
   "source": [
    "# seleccionar las columnas que quiero usar como variables de entrada y como variable objetivo\n",
    "X = df.drop(columns='trombo')\n",
    "y = df['trombo']\n",
    "\n",
    "sc = StandardScaler()\n",
    "X = sc.fit_transform(X)\n",
    "\n",
    "# Definimos el modelo\n",
    "model = Sequential()\n",
    "model.add(Dense(20, input_dim=38, activation='relu'))\n",
    "model.add(Dense(1, activation='sigmoid'))\n",
    "\n",
    "# Compilamos el modelo, especificando la función de pérdida y el optimizador\n",
    "model.compile(loss='mae', optimizer='adam', metrics=['accuracy'])\n",
    "\n",
    "# Entrenamos el modelo utilizando los datos de entrada y salida\n",
    "history = model.fit(X, y,validation_split=0.2,epochs=50, batch_size=10)"
   ]
  },
  {
   "cell_type": "code",
   "execution_count": 284,
   "metadata": {},
   "outputs": [
    {
     "name": "stdout",
     "output_type": "stream",
     "text": [
      "dict_keys(['loss', 'accuracy', 'val_loss', 'val_accuracy'])\n"
     ]
    },
    {
     "data": {
      "image/png": "[encoded data removed]",
      "text/plain": [
       "<Figure size 432x288 with 1 Axes>"
      ]
     },
     "metadata": {
      "needs_background": "light"
     },
     "output_type": "display_data"
    }
   ],
   "source": [
    "print(history.history.keys())\n",
    "# summarize history for loss\n",
    "plt.plot(history.history['loss'])\n",
    "plt.plot(history.history['val_loss'])\n",
    "plt.title('model loss')\n",
    "plt.ylabel('loss')\n",
    "plt.xlabel('epoch')\n",
    "plt.legend(['train', 'val'], loc='upper right')\n",
    "plt.show()"
   ]
  },
  {
   "attachments": {},
   "cell_type": "markdown",
   "metadata": {},
   "source": [
    "M6"
   ]
  },
  {
   "cell_type": "code",
   "execution_count": 289,
   "metadata": {},
   "outputs": [
    {
     "name": "stdout",
     "output_type": "stream",
     "text": [
      "Epoch 1/10\n",
      "196/196 [==============================] - 1s 4ms/step - loss: 0.0863 - accuracy: 0.9070 - val_loss: 0.0266 - val_accuracy: 0.9762\n",
      "Epoch 2/10\n",
      "196/196 [==============================] - 0s 2ms/step - loss: 0.0407 - accuracy: 0.9581 - val_loss: 0.0232 - val_accuracy: 0.9762\n",
      "Epoch 3/10\n",
      "196/196 [==============================] - 1s 3ms/step - loss: 0.0395 - accuracy: 0.9581 - val_loss: 0.0225 - val_accuracy: 0.9762\n",
      "Epoch 4/10\n",
      "196/196 [==============================] - 0s 2ms/step - loss: 0.0384 - accuracy: 0.9581 - val_loss: 0.0226 - val_accuracy: 0.9762\n",
      "Epoch 5/10\n",
      "196/196 [==============================] - 0s 2ms/step - loss: 0.0374 - accuracy: 0.9581 - val_loss: 0.0227 - val_accuracy: 0.9762\n",
      "Epoch 6/10\n",
      "196/196 [==============================] - 0s 2ms/step - loss: 0.0361 - accuracy: 0.9581 - val_loss: 0.0231 - val_accuracy: 0.9762\n",
      "Epoch 7/10\n",
      "196/196 [==============================] - 0s 2ms/step - loss: 0.0351 - accuracy: 0.9591 - val_loss: 0.0231 - val_accuracy: 0.9751\n",
      "Epoch 8/10\n",
      "196/196 [==============================] - 0s 2ms/step - loss: 0.0338 - accuracy: 0.9617 - val_loss: 0.0239 - val_accuracy: 0.9741\n",
      "Epoch 9/10\n",
      "196/196 [==============================] - 0s 2ms/step - loss: 0.0330 - accuracy: 0.9622 - val_loss: 0.0248 - val_accuracy: 0.9720\n",
      "Epoch 10/10\n",
      "196/196 [==============================] - 0s 2ms/step - loss: 0.0324 - accuracy: 0.9622 - val_loss: 0.0237 - val_accuracy: 0.9741\n"
     ]
    }
   ],
   "source": [
    "# seleccionar las columnas que quiero usar como variables de entrada y como variable objetivo\n",
    "X = df.drop(columns='trombo')\n",
    "y = df['trombo']\n",
    "\n",
    "df = df.sample(frac=1)\n",
    "sc = StandardScaler()\n",
    "X = sc.fit_transform(X)\n",
    "\n",
    "# Definimos el modelo\n",
    "model = Sequential()\n",
    "model.add(Dense(20, input_dim=38, activation='relu'))\n",
    "model.add(Dense(20, activation='relu'))\n",
    "model.add(Dense(1, activation='sigmoid'))\n",
    "\n",
    "# Compilamos el modelo, especificando la función de pérdida y el optimizador\n",
    "model.compile(loss='mse', optimizer='adam', metrics=['accuracy'])\n",
    "\n",
    "# Entrenamos el modelo utilizando los datos de entrada y salida\n",
    "history = model.fit(X, y,validation_split=0.33,epochs=10, batch_size=10)"
   ]
  },
  {
   "cell_type": "code",
   "execution_count": 290,
   "metadata": {},
   "outputs": [
    {
     "name": "stdout",
     "output_type": "stream",
     "text": [
      "dict_keys(['loss', 'accuracy', 'val_loss', 'val_accuracy'])\n"
     ]
    },
    {
     "data": {
      "image/png": "[encoded data removed]",
      "text/plain": [
       "<Figure size 432x288 with 1 Axes>"
      ]
     },
     "metadata": {
      "needs_background": "light"
     },
     "output_type": "display_data"
    }
   ],
   "source": [
    "print(history.history.keys())\n",
    "# summarize history for loss\n",
    "plt.plot(history.history['loss'])\n",
    "plt.plot(history.history['val_loss'])\n",
    "plt.title('model loss')\n",
    "plt.ylabel('loss')\n",
    "plt.xlabel('epoch')\n",
    "plt.legend(['train', 'val'], loc='upper right')\n",
    "plt.show()"
   ]
  },
  {
   "attachments": {},
   "cell_type": "markdown",
   "metadata": {},
   "source": [
    "M7"
   ]
  },
  {
   "cell_type": "code",
   "execution_count": 292,
   "metadata": {},
   "outputs": [
    {
     "name": "stdout",
     "output_type": "stream",
     "text": [
      "Epoch 1/10\n",
      "196/196 [==============================] - 1s 3ms/step - loss: 0.1203 - accuracy: 0.8483 - val_loss: 0.0484 - val_accuracy: 0.9544\n",
      "Epoch 2/10\n",
      "196/196 [==============================] - 0s 2ms/step - loss: 0.0346 - accuracy: 0.9642 - val_loss: 0.0411 - val_accuracy: 0.9565\n",
      "Epoch 3/10\n",
      "196/196 [==============================] - 0s 2ms/step - loss: 0.0304 - accuracy: 0.9663 - val_loss: 0.0401 - val_accuracy: 0.9565\n",
      "Epoch 4/10\n",
      "196/196 [==============================] - 0s 2ms/step - loss: 0.0293 - accuracy: 0.9673 - val_loss: 0.0393 - val_accuracy: 0.9565\n",
      "Epoch 5/10\n",
      "196/196 [==============================] - 0s 2ms/step - loss: 0.0283 - accuracy: 0.9668 - val_loss: 0.0388 - val_accuracy: 0.9575\n",
      "Epoch 6/10\n",
      "196/196 [==============================] - 0s 2ms/step - loss: 0.0280 - accuracy: 0.9678 - val_loss: 0.0388 - val_accuracy: 0.9575\n",
      "Epoch 7/10\n",
      "196/196 [==============================] - 0s 2ms/step - loss: 0.0274 - accuracy: 0.9678 - val_loss: 0.0386 - val_accuracy: 0.9575\n",
      "Epoch 8/10\n",
      "196/196 [==============================] - 0s 2ms/step - loss: 0.0267 - accuracy: 0.9673 - val_loss: 0.0387 - val_accuracy: 0.9575\n",
      "Epoch 9/10\n",
      "196/196 [==============================] - 0s 2ms/step - loss: 0.0263 - accuracy: 0.9678 - val_loss: 0.0385 - val_accuracy: 0.9575\n",
      "Epoch 10/10\n",
      "196/196 [==============================] - 0s 2ms/step - loss: 0.0257 - accuracy: 0.9688 - val_loss: 0.0385 - val_accuracy: 0.9575\n"
     ]
    }
   ],
   "source": [
    "# seleccionar las columnas que quiero usar como variables de entrada y como variable objetivo\n",
    "X = df.drop(columns='trombo')\n",
    "y = df['trombo']\n",
    "\n",
    "df = df.sample(frac=1)\n",
    "sc = StandardScaler()\n",
    "X = sc.fit_transform(X)\n",
    "\n",
    "# Definimos el modelo\n",
    "model = Sequential()\n",
    "model.add(Dense(50, input_dim=38, activation='relu'))\n",
    "model.add(Dense(1, activation='sigmoid'))\n",
    "\n",
    "# Compilamos el modelo, especificando la función de pérdida y el optimizador\n",
    "model.compile(loss='mse', optimizer='adam', metrics=['accuracy'])\n",
    "\n",
    "# Entrenamos el modelo utilizando los datos de entrada y salida\n",
    "history = model.fit(X, y,validation_split=0.33,epochs=10, batch_size=10)"
   ]
  },
  {
   "cell_type": "code",
   "execution_count": 293,
   "metadata": {},
   "outputs": [
    {
     "name": "stdout",
     "output_type": "stream",
     "text": [
      "dict_keys(['loss', 'accuracy', 'val_loss', 'val_accuracy'])\n"
     ]
    },
    {
     "data": {
      "image/png": "[encoded data removed]",
      "text/plain": [
       "<Figure size 432x288 with 1 Axes>"
      ]
     },
     "metadata": {
      "needs_background": "light"
     },
     "output_type": "display_data"
    }
   ],
   "source": [
    "print(history.history.keys())\n",
    "# summarize history for loss\n",
    "plt.plot(history.history['loss'])\n",
    "plt.plot(history.history['val_loss'])\n",
    "plt.title('model loss')\n",
    "plt.ylabel('loss')\n",
    "plt.xlabel('epoch')\n",
    "plt.legend(['train', 'val'], loc='upper right')\n",
    "plt.show()"
   ]
  },
  {
   "attachments": {},
   "cell_type": "markdown",
   "metadata": {},
   "source": [
    "Ma1"
   ]
  },
  {
   "cell_type": "code",
   "execution_count": 301,
   "metadata": {},
   "outputs": [
    {
     "name": "stdout",
     "output_type": "stream",
     "text": [
      "Epoch 1/50\n",
      "205/205 [==============================] - 3s 7ms/step - loss: 0.0597 - accuracy: 0.9531 - val_loss: 0.0429 - val_accuracy: 0.9578\n",
      "Epoch 2/50\n",
      "205/205 [==============================] - 1s 4ms/step - loss: 0.0342 - accuracy: 0.9653 - val_loss: 0.0383 - val_accuracy: 0.9590\n",
      "Epoch 3/50\n",
      "205/205 [==============================] - 1s 4ms/step - loss: 0.0316 - accuracy: 0.9658 - val_loss: 0.0376 - val_accuracy: 0.9590\n",
      "Epoch 4/50\n",
      "205/205 [==============================] - 1s 6ms/step - loss: 0.0303 - accuracy: 0.9668 - val_loss: 0.0374 - val_accuracy: 0.9578\n",
      "Epoch 5/50\n",
      "205/205 [==============================] - 1s 4ms/step - loss: 0.0294 - accuracy: 0.9673 - val_loss: 0.0374 - val_accuracy: 0.9555\n",
      "Epoch 6/50\n",
      "205/205 [==============================] - 1s 4ms/step - loss: 0.0287 - accuracy: 0.9687 - val_loss: 0.0376 - val_accuracy: 0.9567\n",
      "Epoch 7/50\n",
      "205/205 [==============================] - 1s 5ms/step - loss: 0.0280 - accuracy: 0.9697 - val_loss: 0.0378 - val_accuracy: 0.9578\n",
      "Epoch 8/50\n",
      "205/205 [==============================] - 1s 4ms/step - loss: 0.0274 - accuracy: 0.9692 - val_loss: 0.0377 - val_accuracy: 0.9590\n",
      "Epoch 9/50\n",
      "205/205 [==============================] - 1s 3ms/step - loss: 0.0270 - accuracy: 0.9687 - val_loss: 0.0378 - val_accuracy: 0.9578\n",
      "Epoch 10/50\n",
      "205/205 [==============================] - 1s 3ms/step - loss: 0.0266 - accuracy: 0.9697 - val_loss: 0.0388 - val_accuracy: 0.9555\n",
      "Epoch 11/50\n",
      "205/205 [==============================] - 1s 3ms/step - loss: 0.0261 - accuracy: 0.9707 - val_loss: 0.0384 - val_accuracy: 0.9555\n",
      "Epoch 12/50\n",
      "205/205 [==============================] - 1s 4ms/step - loss: 0.0257 - accuracy: 0.9712 - val_loss: 0.0387 - val_accuracy: 0.9578\n",
      "Epoch 13/50\n",
      "205/205 [==============================] - 1s 3ms/step - loss: 0.0253 - accuracy: 0.9721 - val_loss: 0.0388 - val_accuracy: 0.9578\n",
      "Epoch 14/50\n",
      "205/205 [==============================] - 1s 3ms/step - loss: 0.0250 - accuracy: 0.9721 - val_loss: 0.0392 - val_accuracy: 0.9555\n"
     ]
    }
   ],
   "source": [
    "# seleccionar las columnas que quiero usar como variables de entrada y como variable objetivo\n",
    "X = df.drop(columns='trombo')\n",
    "y = df['trombo']\n",
    "\n",
    "df = df.sample(frac=1)\n",
    "sc = StandardScaler()\n",
    "X = sc.fit_transform(X)\n",
    "\n",
    "# Definimos el modelo\n",
    "model = Sequential()\n",
    "model.add(Dense(20, input_dim=38, activation='relu'))\n",
    "model.add(Dense(1, activation='sigmoid'))\n",
    "\n",
    "# Compilamos el modelo, especificando la función de pérdida y el optimizador\n",
    "model.compile(loss='mse', optimizer='adam', metrics=['accuracy'])\n",
    "\n",
    "# Entrenamos el modelo utilizando los datos de entrada y salida\n",
    "callback = tf.keras.callbacks.EarlyStopping(monitor='val_loss', patience=10)\n",
    "history = model.fit(X, y,validation_split=0.3,epochs=50, batch_size=10,callbacks=[callback])"
   ]
  },
  {
   "cell_type": "code",
   "execution_count": 302,
   "metadata": {},
   "outputs": [
    {
     "data": {
      "image/png": "[encoded data removed]",
      "text/plain": [
       "<Figure size 432x288 with 1 Axes>"
      ]
     },
     "metadata": {
      "needs_background": "light"
     },
     "output_type": "display_data"
    }
   ],
   "source": [
    "plt.plot(history.history['loss'])\n",
    "plt.plot(history.history['val_loss'])\n",
    "plt.title('model loss')\n",
    "plt.ylabel('loss')\n",
    "plt.xlabel('epoch')\n",
    "plt.legend(['train', 'val'], loc='upper right')\n",
    "plt.show()"
   ]
  },
  {
   "attachments": {},
   "cell_type": "markdown",
   "metadata": {},
   "source": [
    "M2a"
   ]
  },
  {
   "cell_type": "code",
   "execution_count": 303,
   "metadata": {},
   "outputs": [
    {
     "name": "stdout",
     "output_type": "stream",
     "text": [
      "Epoch 1/50\n",
      "205/205 [==============================] - 10s 5ms/step - loss: 0.1200 - accuracy: 0.8587 - val_loss: 0.0515 - val_accuracy: 0.9555\n",
      "Epoch 2/50\n",
      "205/205 [==============================] - 1s 3ms/step - loss: 0.0442 - accuracy: 0.9570 - val_loss: 0.0398 - val_accuracy: 0.9601\n",
      "Epoch 3/50\n",
      "205/205 [==============================] - 1s 3ms/step - loss: 0.0398 - accuracy: 0.9570 - val_loss: 0.0381 - val_accuracy: 0.9612\n",
      "Epoch 4/50\n",
      "205/205 [==============================] - 1s 3ms/step - loss: 0.0378 - accuracy: 0.9589 - val_loss: 0.0370 - val_accuracy: 0.9612\n",
      "Epoch 5/50\n",
      "205/205 [==============================] - 1s 4ms/step - loss: 0.0365 - accuracy: 0.9585 - val_loss: 0.0362 - val_accuracy: 0.9612\n",
      "Epoch 6/50\n",
      "205/205 [==============================] - 1s 3ms/step - loss: 0.0356 - accuracy: 0.9604 - val_loss: 0.0360 - val_accuracy: 0.9612\n",
      "Epoch 7/50\n",
      "205/205 [==============================] - 1s 3ms/step - loss: 0.0346 - accuracy: 0.9599 - val_loss: 0.0335 - val_accuracy: 0.9612\n",
      "Epoch 8/50\n",
      "205/205 [==============================] - 1s 3ms/step - loss: 0.0314 - accuracy: 0.9648 - val_loss: 0.0297 - val_accuracy: 0.9681\n",
      "Epoch 9/50\n",
      "205/205 [==============================] - 1s 3ms/step - loss: 0.0302 - accuracy: 0.9653 - val_loss: 0.0294 - val_accuracy: 0.9681\n",
      "Epoch 10/50\n",
      "205/205 [==============================] - 1s 3ms/step - loss: 0.0299 - accuracy: 0.9663 - val_loss: 0.0300 - val_accuracy: 0.9681\n",
      "Epoch 11/50\n",
      "205/205 [==============================] - 1s 3ms/step - loss: 0.0290 - accuracy: 0.9673 - val_loss: 0.0298 - val_accuracy: 0.9681\n",
      "Epoch 12/50\n",
      "205/205 [==============================] - 1s 3ms/step - loss: 0.0287 - accuracy: 0.9677 - val_loss: 0.0299 - val_accuracy: 0.9681\n",
      "Epoch 13/50\n",
      "205/205 [==============================] - 1s 3ms/step - loss: 0.0280 - accuracy: 0.9682 - val_loss: 0.0298 - val_accuracy: 0.9681\n",
      "Epoch 14/50\n",
      "205/205 [==============================] - 1s 3ms/step - loss: 0.0277 - accuracy: 0.9692 - val_loss: 0.0300 - val_accuracy: 0.9669\n",
      "Epoch 15/50\n",
      "205/205 [==============================] - 1s 2ms/step - loss: 0.0271 - accuracy: 0.9702 - val_loss: 0.0309 - val_accuracy: 0.9669\n",
      "Epoch 16/50\n",
      "205/205 [==============================] - 1s 2ms/step - loss: 0.0269 - accuracy: 0.9702 - val_loss: 0.0305 - val_accuracy: 0.9669\n",
      "Epoch 17/50\n",
      "205/205 [==============================] - 0s 2ms/step - loss: 0.0266 - accuracy: 0.9707 - val_loss: 0.0310 - val_accuracy: 0.9669\n",
      "Epoch 18/50\n",
      "205/205 [==============================] - 1s 3ms/step - loss: 0.0264 - accuracy: 0.9717 - val_loss: 0.0310 - val_accuracy: 0.9669\n",
      "Epoch 19/50\n",
      "205/205 [==============================] - 1s 2ms/step - loss: 0.0262 - accuracy: 0.9712 - val_loss: 0.0308 - val_accuracy: 0.9669\n"
     ]
    }
   ],
   "source": [
    "# seleccionar las columnas que quiero usar como variables de entrada y como variable objetivo\n",
    "X = df.drop(columns='trombo')\n",
    "y = df['trombo']\n",
    "\n",
    "df = df.sample(frac=1)\n",
    "sc = StandardScaler()\n",
    "X = sc.fit_transform(X)\n",
    "\n",
    "# Definimos el modelo\n",
    "model = Sequential()\n",
    "model.add(Dense(26, input_dim=38, activation='relu'))\n",
    "model.add(Dense(1, activation='sigmoid'))\n",
    "\n",
    "# Compilamos el modelo, especificando la función de pérdida y el optimizador\n",
    "model.compile(loss='mse', optimizer='adam', metrics=['accuracy'])\n",
    "\n",
    "# Entrenamos el modelo utilizando los datos de entrada y salida\n",
    "callback = tf.keras.callbacks.EarlyStopping(monitor='val_loss', patience=10)\n",
    "history = model.fit(X, y,validation_split=0.3,epochs=50, batch_size=10,callbacks=[callback])"
   ]
  },
  {
   "cell_type": "code",
   "execution_count": 304,
   "metadata": {},
   "outputs": [
    {
     "data": {
      "image/png": "[encoded data removed]",
      "text/plain": [
       "<Figure size 432x288 with 1 Axes>"
      ]
     },
     "metadata": {
      "needs_background": "light"
     },
     "output_type": "display_data"
    }
   ],
   "source": [
    "plt.plot(history.history['loss'])\n",
    "plt.plot(history.history['val_loss'])\n",
    "plt.title('model loss')\n",
    "plt.ylabel('loss')\n",
    "plt.xlabel('epoch')\n",
    "plt.legend(['train', 'val'], loc='upper right')\n",
    "plt.show()"
   ]
  },
  {
   "attachments": {},
   "cell_type": "markdown",
   "metadata": {},
   "source": [
    "m3a"
   ]
  },
  {
   "cell_type": "code",
   "execution_count": 305,
   "metadata": {},
   "outputs": [
    {
     "name": "stdout",
     "output_type": "stream",
     "text": [
      "Epoch 1/50\n",
      "205/205 [==============================] - 2s 4ms/step - loss: 0.0698 - accuracy: 0.9286 - val_loss: 0.0373 - val_accuracy: 0.9601\n",
      "Epoch 2/50\n",
      "205/205 [==============================] - 1s 3ms/step - loss: 0.0328 - accuracy: 0.9648 - val_loss: 0.0345 - val_accuracy: 0.9612\n",
      "Epoch 3/50\n",
      "205/205 [==============================] - 1s 3ms/step - loss: 0.0310 - accuracy: 0.9648 - val_loss: 0.0341 - val_accuracy: 0.9612\n",
      "Epoch 4/50\n",
      "205/205 [==============================] - 1s 3ms/step - loss: 0.0299 - accuracy: 0.9653 - val_loss: 0.0341 - val_accuracy: 0.9612\n",
      "Epoch 5/50\n",
      "205/205 [==============================] - 1s 3ms/step - loss: 0.0289 - accuracy: 0.9668 - val_loss: 0.0357 - val_accuracy: 0.9601\n",
      "Epoch 6/50\n",
      "205/205 [==============================] - 1s 3ms/step - loss: 0.0285 - accuracy: 0.9658 - val_loss: 0.0352 - val_accuracy: 0.9590\n",
      "Epoch 7/50\n",
      "205/205 [==============================] - 1s 2ms/step - loss: 0.0276 - accuracy: 0.9663 - val_loss: 0.0364 - val_accuracy: 0.9601\n",
      "Epoch 8/50\n",
      "205/205 [==============================] - 1s 3ms/step - loss: 0.0270 - accuracy: 0.9663 - val_loss: 0.0342 - val_accuracy: 0.9635\n",
      "Epoch 9/50\n",
      "205/205 [==============================] - 1s 2ms/step - loss: 0.0264 - accuracy: 0.9677 - val_loss: 0.0348 - val_accuracy: 0.9601\n",
      "Epoch 10/50\n",
      "205/205 [==============================] - 1s 3ms/step - loss: 0.0258 - accuracy: 0.9687 - val_loss: 0.0337 - val_accuracy: 0.9635\n",
      "Epoch 11/50\n",
      "205/205 [==============================] - 1s 4ms/step - loss: 0.0255 - accuracy: 0.9687 - val_loss: 0.0345 - val_accuracy: 0.9635\n",
      "Epoch 12/50\n",
      "205/205 [==============================] - 1s 3ms/step - loss: 0.0247 - accuracy: 0.9697 - val_loss: 0.0348 - val_accuracy: 0.9624\n",
      "Epoch 13/50\n",
      "205/205 [==============================] - 1s 3ms/step - loss: 0.0248 - accuracy: 0.9697 - val_loss: 0.0349 - val_accuracy: 0.9624\n",
      "Epoch 14/50\n",
      "205/205 [==============================] - 1s 3ms/step - loss: 0.0245 - accuracy: 0.9697 - val_loss: 0.0355 - val_accuracy: 0.9601\n",
      "Epoch 15/50\n",
      "205/205 [==============================] - 1s 3ms/step - loss: 0.0238 - accuracy: 0.9726 - val_loss: 0.0362 - val_accuracy: 0.9601\n",
      "Epoch 16/50\n",
      "205/205 [==============================] - 1s 3ms/step - loss: 0.0235 - accuracy: 0.9721 - val_loss: 0.0357 - val_accuracy: 0.9601\n",
      "Epoch 17/50\n",
      "205/205 [==============================] - 1s 2ms/step - loss: 0.0231 - accuracy: 0.9712 - val_loss: 0.0341 - val_accuracy: 0.9647\n",
      "Epoch 18/50\n",
      "205/205 [==============================] - 0s 2ms/step - loss: 0.0228 - accuracy: 0.9717 - val_loss: 0.0353 - val_accuracy: 0.9612\n",
      "Epoch 19/50\n",
      "205/205 [==============================] - 1s 3ms/step - loss: 0.0226 - accuracy: 0.9707 - val_loss: 0.0352 - val_accuracy: 0.9612\n",
      "Epoch 20/50\n",
      "205/205 [==============================] - 1s 3ms/step - loss: 0.0223 - accuracy: 0.9721 - val_loss: 0.0354 - val_accuracy: 0.9624\n"
     ]
    }
   ],
   "source": [
    "# seleccionar las columnas que quiero usar como variables de entrada y como variable objetivo\n",
    "X = df.drop(columns='trombo')\n",
    "y = df['trombo']\n",
    "\n",
    "df = df.sample(frac=1)\n",
    "sc = StandardScaler()\n",
    "X = sc.fit_transform(X)\n",
    "\n",
    "# Definimos el modelo\n",
    "model = Sequential()\n",
    "model.add(Dense(75, input_dim=38, activation='relu'))\n",
    "model.add(Dense(1, activation='sigmoid'))\n",
    "\n",
    "# Compilamos el modelo, especificando la función de pérdida y el optimizador\n",
    "model.compile(loss='mse', optimizer='adam', metrics=['accuracy'])\n",
    "\n",
    "# Entrenamos el modelo utilizando los datos de entrada y salida\n",
    "callback = tf.keras.callbacks.EarlyStopping(monitor='val_loss', patience=10)\n",
    "history = model.fit(X, y,validation_split=0.3,epochs=50, batch_size=10,callbacks=[callback])"
   ]
  },
  {
   "cell_type": "code",
   "execution_count": 306,
   "metadata": {},
   "outputs": [
    {
     "data": {
      "image/png": "[encoded data removed]",
      "text/plain": [
       "<Figure size 432x288 with 1 Axes>"
      ]
     },
     "metadata": {
      "needs_background": "light"
     },
     "output_type": "display_data"
    }
   ],
   "source": [
    "plt.plot(history.history['loss'])\n",
    "plt.plot(history.history['val_loss'])\n",
    "plt.title('model loss')\n",
    "plt.ylabel('loss')\n",
    "plt.xlabel('epoch')\n",
    "plt.legend(['train', 'val'], loc='upper right')\n",
    "plt.show()"
   ]
  },
  {
   "attachments": {},
   "cell_type": "markdown",
   "metadata": {},
   "source": [
    "m4a"
   ]
  },
  {
   "cell_type": "code",
   "execution_count": 307,
   "metadata": {},
   "outputs": [
    {
     "name": "stdout",
     "output_type": "stream",
     "text": [
      "Epoch 1/50\n",
      "205/205 [==============================] - 3s 6ms/step - loss: 0.2010 - accuracy: 0.9262 - val_loss: 0.0841 - val_accuracy: 0.9635\n",
      "Epoch 2/50\n",
      "205/205 [==============================] - 1s 4ms/step - loss: 0.0627 - accuracy: 0.9619 - val_loss: 0.0459 - val_accuracy: 0.9669\n",
      "Epoch 3/50\n",
      "205/205 [==============================] - 1s 4ms/step - loss: 0.0452 - accuracy: 0.9629 - val_loss: 0.0390 - val_accuracy: 0.9669\n",
      "Epoch 4/50\n",
      "205/205 [==============================] - 1s 5ms/step - loss: 0.0411 - accuracy: 0.9629 - val_loss: 0.0365 - val_accuracy: 0.9669\n",
      "Epoch 5/50\n",
      "205/205 [==============================] - 1s 5ms/step - loss: 0.0395 - accuracy: 0.9629 - val_loss: 0.0353 - val_accuracy: 0.9669\n",
      "Epoch 6/50\n",
      "205/205 [==============================] - 1s 4ms/step - loss: 0.0387 - accuracy: 0.9629 - val_loss: 0.0347 - val_accuracy: 0.9669\n",
      "Epoch 7/50\n",
      "205/205 [==============================] - 1s 3ms/step - loss: 0.0382 - accuracy: 0.9629 - val_loss: 0.0343 - val_accuracy: 0.9669\n",
      "Epoch 8/50\n",
      "205/205 [==============================] - 1s 3ms/step - loss: 0.0379 - accuracy: 0.9629 - val_loss: 0.0340 - val_accuracy: 0.9669\n",
      "Epoch 9/50\n",
      "205/205 [==============================] - 1s 3ms/step - loss: 0.0378 - accuracy: 0.9629 - val_loss: 0.0338 - val_accuracy: 0.9669\n",
      "Epoch 10/50\n",
      "205/205 [==============================] - 1s 3ms/step - loss: 0.0376 - accuracy: 0.9629 - val_loss: 0.0337 - val_accuracy: 0.9669\n",
      "Epoch 11/50\n",
      "205/205 [==============================] - 1s 3ms/step - loss: 0.0375 - accuracy: 0.9629 - val_loss: 0.0336 - val_accuracy: 0.9669\n",
      "Epoch 12/50\n",
      "205/205 [==============================] - 1s 3ms/step - loss: 0.0374 - accuracy: 0.9629 - val_loss: 0.0336 - val_accuracy: 0.9669\n",
      "Epoch 13/50\n",
      "205/205 [==============================] - 1s 3ms/step - loss: 0.0369 - accuracy: 0.9633 - val_loss: 0.0336 - val_accuracy: 0.9669\n",
      "Epoch 14/50\n",
      "205/205 [==============================] - 1s 3ms/step - loss: 0.0366 - accuracy: 0.9638 - val_loss: 0.0336 - val_accuracy: 0.9669\n",
      "Epoch 15/50\n",
      "205/205 [==============================] - 1s 3ms/step - loss: 0.0364 - accuracy: 0.9638 - val_loss: 0.0335 - val_accuracy: 0.9669\n",
      "Epoch 16/50\n",
      "205/205 [==============================] - 1s 3ms/step - loss: 0.0360 - accuracy: 0.9643 - val_loss: 0.0335 - val_accuracy: 0.9669\n",
      "Epoch 17/50\n",
      "205/205 [==============================] - 1s 3ms/step - loss: 0.0359 - accuracy: 0.9643 - val_loss: 0.0335 - val_accuracy: 0.9669\n",
      "Epoch 18/50\n",
      "205/205 [==============================] - 1s 3ms/step - loss: 0.0358 - accuracy: 0.9643 - val_loss: 0.0335 - val_accuracy: 0.9669\n",
      "Epoch 19/50\n",
      "205/205 [==============================] - 1s 3ms/step - loss: 0.0357 - accuracy: 0.9643 - val_loss: 0.0335 - val_accuracy: 0.9669\n",
      "Epoch 20/50\n",
      "205/205 [==============================] - 1s 3ms/step - loss: 0.0357 - accuracy: 0.9643 - val_loss: 0.0335 - val_accuracy: 0.9669\n",
      "Epoch 21/50\n",
      "205/205 [==============================] - 1s 3ms/step - loss: 0.0355 - accuracy: 0.9648 - val_loss: 0.0336 - val_accuracy: 0.9669\n",
      "Epoch 22/50\n",
      "205/205 [==============================] - 1s 3ms/step - loss: 0.0358 - accuracy: 0.9643 - val_loss: 0.0341 - val_accuracy: 0.9669\n",
      "Epoch 23/50\n",
      "205/205 [==============================] - 1s 3ms/step - loss: 0.0354 - accuracy: 0.9648 - val_loss: 0.0342 - val_accuracy: 0.9669\n",
      "Epoch 24/50\n",
      "205/205 [==============================] - 1s 3ms/step - loss: 0.0351 - accuracy: 0.9648 - val_loss: 0.0342 - val_accuracy: 0.9669\n",
      "Epoch 25/50\n",
      "205/205 [==============================] - 1s 3ms/step - loss: 0.0349 - accuracy: 0.9653 - val_loss: 0.0344 - val_accuracy: 0.9669\n",
      "Epoch 26/50\n",
      "205/205 [==============================] - 1s 3ms/step - loss: 0.0346 - accuracy: 0.9658 - val_loss: 0.0345 - val_accuracy: 0.9658\n",
      "Epoch 27/50\n",
      "205/205 [==============================] - 1s 3ms/step - loss: 0.0344 - accuracy: 0.9658 - val_loss: 0.0346 - val_accuracy: 0.9669\n"
     ]
    }
   ],
   "source": [
    "# seleccionar las columnas que quiero usar como variables de entrada y como variable objetivo\n",
    "X = df.drop(columns='trombo')\n",
    "y = df['trombo']\n",
    "\n",
    "df = df.sample(frac=1)\n",
    "sc = StandardScaler()\n",
    "X = sc.fit_transform(X)\n",
    "\n",
    "# Definimos el modelo\n",
    "model = Sequential()\n",
    "model.add(Dense(20, input_dim=38, activation='relu'))\n",
    "model.add(Dense(1, activation='sigmoid'))\n",
    "\n",
    "# Compilamos el modelo, especificando la función de pérdida y el optimizador\n",
    "model.compile(loss='mae', optimizer='adam', metrics=['accuracy'])\n",
    "\n",
    "# Entrenamos el modelo utilizando los datos de entrada y salida\n",
    "callback = tf.keras.callbacks.EarlyStopping(monitor='val_loss', patience=10)\n",
    "history = model.fit(X, y,validation_split=0.3,epochs=50, batch_size=10,callbacks=[callback])"
   ]
  },
  {
   "cell_type": "code",
   "execution_count": 308,
   "metadata": {},
   "outputs": [
    {
     "data": {
      "image/png": "[encoded data removed]",
      "text/plain": [
       "<Figure size 432x288 with 1 Axes>"
      ]
     },
     "metadata": {
      "needs_background": "light"
     },
     "output_type": "display_data"
    }
   ],
   "source": [
    "plt.plot(history.history['loss'])\n",
    "plt.plot(history.history['val_loss'])\n",
    "plt.title('model loss')\n",
    "plt.ylabel('loss')\n",
    "plt.xlabel('epoch')\n",
    "plt.legend(['train', 'val'], loc='upper right')\n",
    "plt.show()"
   ]
  },
  {
   "attachments": {},
   "cell_type": "markdown",
   "metadata": {},
   "source": [
    "m5a"
   ]
  },
  {
   "cell_type": "code",
   "execution_count": 309,
   "metadata": {},
   "outputs": [
    {
     "name": "stdout",
     "output_type": "stream",
     "text": [
      "Epoch 1/50\n",
      "205/205 [==============================] - 3s 7ms/step - loss: 0.3026 - accuracy: 0.8172 - val_loss: 0.1189 - val_accuracy: 0.9590\n",
      "Epoch 2/50\n",
      "205/205 [==============================] - 1s 3ms/step - loss: 0.0769 - accuracy: 0.9614 - val_loss: 0.0527 - val_accuracy: 0.9692\n",
      "Epoch 3/50\n",
      "205/205 [==============================] - 1s 3ms/step - loss: 0.0494 - accuracy: 0.9619 - val_loss: 0.0404 - val_accuracy: 0.9681\n",
      "Epoch 4/50\n",
      "205/205 [==============================] - 1s 3ms/step - loss: 0.0428 - accuracy: 0.9629 - val_loss: 0.0366 - val_accuracy: 0.9681\n",
      "Epoch 5/50\n",
      "205/205 [==============================] - 1s 3ms/step - loss: 0.0404 - accuracy: 0.9629 - val_loss: 0.0349 - val_accuracy: 0.9681\n",
      "Epoch 6/50\n",
      "205/205 [==============================] - 1s 4ms/step - loss: 0.0392 - accuracy: 0.9629 - val_loss: 0.0340 - val_accuracy: 0.9681\n",
      "Epoch 7/50\n",
      "205/205 [==============================] - 1s 6ms/step - loss: 0.0385 - accuracy: 0.9629 - val_loss: 0.0336 - val_accuracy: 0.9681\n",
      "Epoch 8/50\n",
      "205/205 [==============================] - 1s 4ms/step - loss: 0.0380 - accuracy: 0.9629 - val_loss: 0.0334 - val_accuracy: 0.9681\n",
      "Epoch 9/50\n",
      "205/205 [==============================] - 1s 3ms/step - loss: 0.0377 - accuracy: 0.9633 - val_loss: 0.0333 - val_accuracy: 0.9681\n",
      "Epoch 10/50\n",
      "205/205 [==============================] - 1s 3ms/step - loss: 0.0374 - accuracy: 0.9633 - val_loss: 0.0332 - val_accuracy: 0.9681\n",
      "Epoch 11/50\n",
      "205/205 [==============================] - 1s 3ms/step - loss: 0.0371 - accuracy: 0.9633 - val_loss: 0.0332 - val_accuracy: 0.9681\n",
      "Epoch 12/50\n",
      "205/205 [==============================] - 1s 2ms/step - loss: 0.0369 - accuracy: 0.9638 - val_loss: 0.0332 - val_accuracy: 0.9681\n",
      "Epoch 13/50\n",
      "205/205 [==============================] - 1s 2ms/step - loss: 0.0367 - accuracy: 0.9638 - val_loss: 0.0332 - val_accuracy: 0.9669\n",
      "Epoch 14/50\n",
      "205/205 [==============================] - 1s 2ms/step - loss: 0.0367 - accuracy: 0.9638 - val_loss: 0.0332 - val_accuracy: 0.9669\n",
      "Epoch 15/50\n",
      "205/205 [==============================] - 1s 2ms/step - loss: 0.0366 - accuracy: 0.9633 - val_loss: 0.0332 - val_accuracy: 0.9669\n",
      "Epoch 16/50\n",
      "205/205 [==============================] - 1s 3ms/step - loss: 0.0365 - accuracy: 0.9638 - val_loss: 0.0332 - val_accuracy: 0.9669\n",
      "Epoch 17/50\n",
      "205/205 [==============================] - 1s 2ms/step - loss: 0.0364 - accuracy: 0.9638 - val_loss: 0.0332 - val_accuracy: 0.9669\n",
      "Epoch 18/50\n",
      "205/205 [==============================] - 1s 2ms/step - loss: 0.0364 - accuracy: 0.9638 - val_loss: 0.0332 - val_accuracy: 0.9669\n",
      "Epoch 19/50\n",
      "205/205 [==============================] - 1s 2ms/step - loss: 0.0363 - accuracy: 0.9638 - val_loss: 0.0332 - val_accuracy: 0.9669\n",
      "Epoch 20/50\n",
      "205/205 [==============================] - 1s 2ms/step - loss: 0.0363 - accuracy: 0.9638 - val_loss: 0.0333 - val_accuracy: 0.9669\n",
      "Epoch 21/50\n",
      "205/205 [==============================] - 1s 3ms/step - loss: 0.0362 - accuracy: 0.9638 - val_loss: 0.0333 - val_accuracy: 0.9669\n",
      "Epoch 22/50\n",
      "205/205 [==============================] - 1s 2ms/step - loss: 0.0363 - accuracy: 0.9638 - val_loss: 0.0333 - val_accuracy: 0.9669\n"
     ]
    }
   ],
   "source": [
    "# seleccionar las columnas que quiero usar como variables de entrada y como variable objetivo\n",
    "X = df.drop(columns='trombo')\n",
    "y = df['trombo']\n",
    "\n",
    "df = df.sample(frac=1)\n",
    "sc = StandardScaler()\n",
    "X = sc.fit_transform(X)\n",
    "\n",
    "# Definimos el modelo\n",
    "model = Sequential()\n",
    "model.add(Dense(26, input_dim=38, activation='relu'))\n",
    "model.add(Dense(1, activation='sigmoid'))\n",
    "\n",
    "# Compilamos el modelo, especificando la función de pérdida y el optimizador\n",
    "model.compile(loss='mae', optimizer='adam', metrics=['accuracy'])\n",
    "\n",
    "# Entrenamos el modelo utilizando los datos de entrada y salida\n",
    "callback = tf.keras.callbacks.EarlyStopping(monitor='val_loss', patience=10)\n",
    "history = model.fit(X, y,validation_split=0.3,epochs=50, batch_size=10,callbacks=[callback])"
   ]
  },
  {
   "cell_type": "code",
   "execution_count": 310,
   "metadata": {},
   "outputs": [
    {
     "data": {
      "image/png": "[encoded data removed]",
      "text/plain": [
       "<Figure size 432x288 with 1 Axes>"
      ]
     },
     "metadata": {
      "needs_background": "light"
     },
     "output_type": "display_data"
    }
   ],
   "source": [
    "plt.plot(history.history['loss'])\n",
    "plt.plot(history.history['val_loss'])\n",
    "plt.title('model loss')\n",
    "plt.ylabel('loss')\n",
    "plt.xlabel('epoch')\n",
    "plt.legend(['train', 'val'], loc='upper right')\n",
    "plt.show()"
   ]
  },
  {
   "attachments": {},
   "cell_type": "markdown",
   "metadata": {},
   "source": [
    "m6a"
   ]
  },
  {
   "cell_type": "code",
   "execution_count": 311,
   "metadata": {},
   "outputs": [
    {
     "name": "stdout",
     "output_type": "stream",
     "text": [
      "Epoch 1/50\n",
      "205/205 [==============================] - 2s 5ms/step - loss: 0.1546 - accuracy: 0.9208 - val_loss: 0.0466 - val_accuracy: 0.9681\n",
      "Epoch 2/50\n",
      "205/205 [==============================] - 1s 3ms/step - loss: 0.0445 - accuracy: 0.9624 - val_loss: 0.0362 - val_accuracy: 0.9669\n",
      "Epoch 3/50\n",
      "205/205 [==============================] - 1s 3ms/step - loss: 0.0396 - accuracy: 0.9629 - val_loss: 0.0346 - val_accuracy: 0.9658\n",
      "Epoch 4/50\n",
      "205/205 [==============================] - 1s 3ms/step - loss: 0.0381 - accuracy: 0.9633 - val_loss: 0.0341 - val_accuracy: 0.9658\n",
      "Epoch 5/50\n",
      "205/205 [==============================] - 1s 3ms/step - loss: 0.0374 - accuracy: 0.9638 - val_loss: 0.0339 - val_accuracy: 0.9669\n",
      "Epoch 6/50\n",
      "205/205 [==============================] - 1s 3ms/step - loss: 0.0370 - accuracy: 0.9638 - val_loss: 0.0337 - val_accuracy: 0.9669\n",
      "Epoch 7/50\n",
      "205/205 [==============================] - 1s 3ms/step - loss: 0.0367 - accuracy: 0.9638 - val_loss: 0.0336 - val_accuracy: 0.9669\n",
      "Epoch 8/50\n",
      "205/205 [==============================] - 1s 3ms/step - loss: 0.0366 - accuracy: 0.9638 - val_loss: 0.0335 - val_accuracy: 0.9669\n",
      "Epoch 9/50\n",
      "205/205 [==============================] - 1s 3ms/step - loss: 0.0365 - accuracy: 0.9638 - val_loss: 0.0334 - val_accuracy: 0.9669\n",
      "Epoch 10/50\n",
      "205/205 [==============================] - 1s 3ms/step - loss: 0.0364 - accuracy: 0.9638 - val_loss: 0.0334 - val_accuracy: 0.9669\n",
      "Epoch 11/50\n",
      "205/205 [==============================] - 1s 5ms/step - loss: 0.0364 - accuracy: 0.9638 - val_loss: 0.0333 - val_accuracy: 0.9669\n",
      "Epoch 12/50\n",
      "205/205 [==============================] - 1s 3ms/step - loss: 0.0363 - accuracy: 0.9638 - val_loss: 0.0333 - val_accuracy: 0.9669\n",
      "Epoch 13/50\n",
      "205/205 [==============================] - 1s 3ms/step - loss: 0.0363 - accuracy: 0.9638 - val_loss: 0.0333 - val_accuracy: 0.9669\n",
      "Epoch 14/50\n",
      "205/205 [==============================] - 1s 3ms/step - loss: 0.0363 - accuracy: 0.9638 - val_loss: 0.0332 - val_accuracy: 0.9669\n",
      "Epoch 15/50\n",
      "205/205 [==============================] - 1s 2ms/step - loss: 0.0363 - accuracy: 0.9638 - val_loss: 0.0332 - val_accuracy: 0.9669\n",
      "Epoch 16/50\n",
      "205/205 [==============================] - 1s 2ms/step - loss: 0.0362 - accuracy: 0.9638 - val_loss: 0.0332 - val_accuracy: 0.9669\n",
      "Epoch 17/50\n",
      "205/205 [==============================] - 0s 2ms/step - loss: 0.0362 - accuracy: 0.9638 - val_loss: 0.0331 - val_accuracy: 0.9669\n",
      "Epoch 18/50\n",
      "205/205 [==============================] - 1s 2ms/step - loss: 0.0361 - accuracy: 0.9638 - val_loss: 0.0328 - val_accuracy: 0.9669\n",
      "Epoch 19/50\n",
      "205/205 [==============================] - 0s 2ms/step - loss: 0.0359 - accuracy: 0.9643 - val_loss: 0.0324 - val_accuracy: 0.9681\n",
      "Epoch 20/50\n",
      "205/205 [==============================] - 0s 2ms/step - loss: 0.0358 - accuracy: 0.9643 - val_loss: 0.0322 - val_accuracy: 0.9681\n",
      "Epoch 21/50\n",
      "205/205 [==============================] - 0s 2ms/step - loss: 0.0357 - accuracy: 0.9643 - val_loss: 0.0322 - val_accuracy: 0.9681\n",
      "Epoch 22/50\n",
      "205/205 [==============================] - 0s 2ms/step - loss: 0.0357 - accuracy: 0.9643 - val_loss: 0.0321 - val_accuracy: 0.9681\n",
      "Epoch 23/50\n",
      "205/205 [==============================] - 1s 2ms/step - loss: 0.0357 - accuracy: 0.9643 - val_loss: 0.0322 - val_accuracy: 0.9681\n",
      "Epoch 24/50\n",
      "205/205 [==============================] - 1s 2ms/step - loss: 0.0357 - accuracy: 0.9643 - val_loss: 0.0321 - val_accuracy: 0.9681\n",
      "Epoch 25/50\n",
      "205/205 [==============================] - 0s 2ms/step - loss: 0.0357 - accuracy: 0.9643 - val_loss: 0.0321 - val_accuracy: 0.9681\n",
      "Epoch 26/50\n",
      "205/205 [==============================] - 0s 2ms/step - loss: 0.0357 - accuracy: 0.9643 - val_loss: 0.0321 - val_accuracy: 0.9681\n",
      "Epoch 27/50\n",
      "205/205 [==============================] - 1s 2ms/step - loss: 0.0357 - accuracy: 0.9643 - val_loss: 0.0321 - val_accuracy: 0.9681\n",
      "Epoch 28/50\n",
      "205/205 [==============================] - 1s 3ms/step - loss: 0.0357 - accuracy: 0.9643 - val_loss: 0.0321 - val_accuracy: 0.9681\n",
      "Epoch 29/50\n",
      "205/205 [==============================] - 1s 2ms/step - loss: 0.0357 - accuracy: 0.9643 - val_loss: 0.0321 - val_accuracy: 0.9681\n",
      "Epoch 30/50\n",
      "205/205 [==============================] - 1s 3ms/step - loss: 0.0357 - accuracy: 0.9643 - val_loss: 0.0321 - val_accuracy: 0.9681\n",
      "Epoch 31/50\n",
      "205/205 [==============================] - 1s 2ms/step - loss: 0.0357 - accuracy: 0.9643 - val_loss: 0.0320 - val_accuracy: 0.9681\n",
      "Epoch 32/50\n",
      "205/205 [==============================] - 1s 2ms/step - loss: 0.0357 - accuracy: 0.9643 - val_loss: 0.0320 - val_accuracy: 0.9681\n",
      "Epoch 33/50\n",
      "205/205 [==============================] - 1s 2ms/step - loss: 0.0357 - accuracy: 0.9643 - val_loss: 0.0320 - val_accuracy: 0.9681\n",
      "Epoch 34/50\n",
      "205/205 [==============================] - 1s 2ms/step - loss: 0.0357 - accuracy: 0.9643 - val_loss: 0.0320 - val_accuracy: 0.9681\n",
      "Epoch 35/50\n",
      "205/205 [==============================] - 1s 3ms/step - loss: 0.0357 - accuracy: 0.9643 - val_loss: 0.0320 - val_accuracy: 0.9681\n",
      "Epoch 36/50\n",
      "205/205 [==============================] - 1s 2ms/step - loss: 0.0357 - accuracy: 0.9643 - val_loss: 0.0320 - val_accuracy: 0.9681\n",
      "Epoch 37/50\n",
      "205/205 [==============================] - 0s 2ms/step - loss: 0.0357 - accuracy: 0.9643 - val_loss: 0.0320 - val_accuracy: 0.9681\n",
      "Epoch 38/50\n",
      "205/205 [==============================] - 1s 3ms/step - loss: 0.0357 - accuracy: 0.9643 - val_loss: 0.0320 - val_accuracy: 0.9681\n",
      "Epoch 39/50\n",
      "205/205 [==============================] - 1s 3ms/step - loss: 0.0357 - accuracy: 0.9643 - val_loss: 0.0320 - val_accuracy: 0.9681\n",
      "Epoch 40/50\n",
      "205/205 [==============================] - 1s 3ms/step - loss: 0.0355 - accuracy: 0.9643 - val_loss: 0.0344 - val_accuracy: 0.9647\n",
      "Epoch 41/50\n",
      "205/205 [==============================] - 1s 3ms/step - loss: 0.0351 - accuracy: 0.9653 - val_loss: 0.0354 - val_accuracy: 0.9647\n",
      "Epoch 42/50\n",
      "205/205 [==============================] - 1s 2ms/step - loss: 0.0350 - accuracy: 0.9653 - val_loss: 0.0322 - val_accuracy: 0.9681\n",
      "Epoch 43/50\n",
      "205/205 [==============================] - 1s 2ms/step - loss: 0.0347 - accuracy: 0.9653 - val_loss: 0.0324 - val_accuracy: 0.9681\n",
      "Epoch 44/50\n",
      "205/205 [==============================] - 1s 2ms/step - loss: 0.0347 - accuracy: 0.9653 - val_loss: 0.0330 - val_accuracy: 0.9669\n",
      "Epoch 45/50\n",
      "205/205 [==============================] - 1s 2ms/step - loss: 0.0348 - accuracy: 0.9648 - val_loss: 0.0328 - val_accuracy: 0.9669\n",
      "Epoch 46/50\n",
      "205/205 [==============================] - 0s 2ms/step - loss: 0.0344 - accuracy: 0.9663 - val_loss: 0.0330 - val_accuracy: 0.9669\n",
      "Epoch 47/50\n",
      "205/205 [==============================] - 0s 2ms/step - loss: 0.0340 - accuracy: 0.9663 - val_loss: 0.0332 - val_accuracy: 0.9669\n",
      "Epoch 48/50\n",
      "205/205 [==============================] - 0s 2ms/step - loss: 0.0339 - accuracy: 0.9663 - val_loss: 0.0328 - val_accuracy: 0.9681\n",
      "Epoch 49/50\n",
      "205/205 [==============================] - 0s 2ms/step - loss: 0.0340 - accuracy: 0.9663 - val_loss: 0.0330 - val_accuracy: 0.9669\n"
     ]
    }
   ],
   "source": [
    "# seleccionar las columnas que quiero usar como variables de entrada y como variable objetivo\n",
    "X = df.drop(columns='trombo')\n",
    "y = df['trombo']\n",
    "\n",
    "df = df.sample(frac=1)\n",
    "sc = StandardScaler()\n",
    "X = sc.fit_transform(X)\n",
    "\n",
    "# Definimos el modelo\n",
    "model = Sequential()\n",
    "model.add(Dense(75, input_dim=38, activation='relu'))\n",
    "model.add(Dense(1, activation='sigmoid'))\n",
    "\n",
    "# Compilamos el modelo, especificando la función de pérdida y el optimizador\n",
    "model.compile(loss='mae', optimizer='adam', metrics=['accuracy'])\n",
    "\n",
    "# Entrenamos el modelo utilizando los datos de entrada y salida\n",
    "callback = tf.keras.callbacks.EarlyStopping(monitor='val_loss', patience=10)\n",
    "history = model.fit(X, y,validation_split=0.3,epochs=50, batch_size=10,callbacks=[callback])"
   ]
  },
  {
   "cell_type": "code",
   "execution_count": 312,
   "metadata": {},
   "outputs": [
    {
     "data": {
      "image/png": "[encoded data removed]",
      "text/plain": [
       "<Figure size 432x288 with 1 Axes>"
      ]
     },
     "metadata": {
      "needs_background": "light"
     },
     "output_type": "display_data"
    }
   ],
   "source": [
    "plt.plot(history.history['loss'])\n",
    "plt.plot(history.history['val_loss'])\n",
    "plt.title('model loss')\n",
    "plt.ylabel('loss')\n",
    "plt.xlabel('epoch')\n",
    "plt.legend(['train', 'val'], loc='upper right')\n",
    "plt.show()"
   ]
  },
  {
   "attachments": {},
   "cell_type": "markdown",
   "metadata": {},
   "source": [
    "m7a"
   ]
  },
  {
   "cell_type": "code",
   "execution_count": 313,
   "metadata": {},
   "outputs": [
    {
     "name": "stdout",
     "output_type": "stream",
     "text": [
      "Epoch 1/50\n",
      "205/205 [==============================] - 3s 5ms/step - loss: 0.3147 - accuracy: 0.9257 - val_loss: 0.1820 - val_accuracy: 0.9590\n",
      "Epoch 2/50\n",
      "205/205 [==============================] - 1s 3ms/step - loss: 0.1529 - accuracy: 0.9619 - val_loss: 0.1520 - val_accuracy: 0.9601\n",
      "Epoch 3/50\n",
      "205/205 [==============================] - 1s 4ms/step - loss: 0.1333 - accuracy: 0.9643 - val_loss: 0.1501 - val_accuracy: 0.9578\n",
      "Epoch 4/50\n",
      "205/205 [==============================] - 1s 3ms/step - loss: 0.1248 - accuracy: 0.9638 - val_loss: 0.1468 - val_accuracy: 0.9601\n",
      "Epoch 5/50\n",
      "205/205 [==============================] - 1s 3ms/step - loss: 0.1195 - accuracy: 0.9653 - val_loss: 0.1476 - val_accuracy: 0.9590\n",
      "Epoch 6/50\n",
      "205/205 [==============================] - 1s 5ms/step - loss: 0.1156 - accuracy: 0.9663 - val_loss: 0.1496 - val_accuracy: 0.9590\n",
      "Epoch 7/50\n",
      "205/205 [==============================] - 1s 6ms/step - loss: 0.1123 - accuracy: 0.9677 - val_loss: 0.1493 - val_accuracy: 0.9590\n",
      "Epoch 8/50\n",
      "205/205 [==============================] - 1s 3ms/step - loss: 0.1100 - accuracy: 0.9673 - val_loss: 0.1525 - val_accuracy: 0.9578\n",
      "Epoch 9/50\n",
      "205/205 [==============================] - 1s 4ms/step - loss: 0.1079 - accuracy: 0.9677 - val_loss: 0.1522 - val_accuracy: 0.9590\n",
      "Epoch 10/50\n",
      "205/205 [==============================] - 1s 3ms/step - loss: 0.1061 - accuracy: 0.9673 - val_loss: 0.1544 - val_accuracy: 0.9590\n",
      "Epoch 11/50\n",
      "205/205 [==============================] - 1s 3ms/step - loss: 0.1042 - accuracy: 0.9682 - val_loss: 0.1555 - val_accuracy: 0.9578\n",
      "Epoch 12/50\n",
      "205/205 [==============================] - 1s 5ms/step - loss: 0.1026 - accuracy: 0.9687 - val_loss: 0.1571 - val_accuracy: 0.9578\n",
      "Epoch 13/50\n",
      "205/205 [==============================] - 1s 4ms/step - loss: 0.1011 - accuracy: 0.9687 - val_loss: 0.1588 - val_accuracy: 0.9578\n",
      "Epoch 14/50\n",
      "205/205 [==============================] - 1s 3ms/step - loss: 0.0997 - accuracy: 0.9687 - val_loss: 0.1611 - val_accuracy: 0.9590\n"
     ]
    }
   ],
   "source": [
    "# seleccionar las columnas que quiero usar como variables de entrada y como variable objetivo\n",
    "X = df.drop(columns='trombo')\n",
    "y = df['trombo']\n",
    "\n",
    "df = df.sample(frac=1)\n",
    "sc = StandardScaler()\n",
    "X = sc.fit_transform(X)\n",
    "\n",
    "# Definimos el modelo\n",
    "model = Sequential()\n",
    "model.add(Dense(20, input_dim=38, activation='relu'))\n",
    "model.add(Dense(1, activation='sigmoid'))\n",
    "\n",
    "# Compilamos el modelo, especificando la función de pérdida y el optimizador\n",
    "model.compile(loss='binary_crossentropy', optimizer='adam', metrics=['accuracy'])\n",
    "\n",
    "# Entrenamos el modelo utilizando los datos de entrada y salida\n",
    "callback = tf.keras.callbacks.EarlyStopping(monitor='val_loss', patience=10)\n",
    "history = model.fit(X, y,validation_split=0.3,epochs=50, batch_size=10,callbacks=[callback])"
   ]
  },
  {
   "cell_type": "code",
   "execution_count": 314,
   "metadata": {},
   "outputs": [
    {
     "data": {
      "image/png": "[encoded data removed]",
      "text/plain": [
       "<Figure size 432x288 with 1 Axes>"
      ]
     },
     "metadata": {
      "needs_background": "light"
     },
     "output_type": "display_data"
    }
   ],
   "source": [
    "plt.plot(history.history['loss'])\n",
    "plt.plot(history.history['val_loss'])\n",
    "plt.title('model loss')\n",
    "plt.ylabel('loss')\n",
    "plt.xlabel('epoch')\n",
    "plt.legend(['train', 'val'], loc='upper right')\n",
    "plt.show()"
   ]
  },
  {
   "attachments": {},
   "cell_type": "markdown",
   "metadata": {},
   "source": [
    "m8a"
   ]
  },
  {
   "cell_type": "code",
   "execution_count": 315,
   "metadata": {},
   "outputs": [
    {
     "name": "stdout",
     "output_type": "stream",
     "text": [
      "Epoch 1/50\n",
      "205/205 [==============================] - 2s 4ms/step - loss: 0.3449 - accuracy: 0.9169 - val_loss: 0.2093 - val_accuracy: 0.9567\n",
      "Epoch 2/50\n",
      "205/205 [==============================] - 1s 3ms/step - loss: 0.1577 - accuracy: 0.9663 - val_loss: 0.1641 - val_accuracy: 0.9578\n",
      "Epoch 3/50\n",
      "205/205 [==============================] - 1s 3ms/step - loss: 0.1336 - accuracy: 0.9658 - val_loss: 0.1531 - val_accuracy: 0.9590\n",
      "Epoch 4/50\n",
      "205/205 [==============================] - 1s 3ms/step - loss: 0.1247 - accuracy: 0.9673 - val_loss: 0.1510 - val_accuracy: 0.9601\n",
      "Epoch 5/50\n",
      "205/205 [==============================] - 1s 3ms/step - loss: 0.1191 - accuracy: 0.9668 - val_loss: 0.1493 - val_accuracy: 0.9578\n",
      "Epoch 6/50\n",
      "205/205 [==============================] - 1s 3ms/step - loss: 0.1153 - accuracy: 0.9673 - val_loss: 0.1514 - val_accuracy: 0.9578\n",
      "Epoch 7/50\n",
      "205/205 [==============================] - 1s 3ms/step - loss: 0.1122 - accuracy: 0.9682 - val_loss: 0.1516 - val_accuracy: 0.9578\n",
      "Epoch 8/50\n",
      "205/205 [==============================] - 1s 4ms/step - loss: 0.1095 - accuracy: 0.9687 - val_loss: 0.1522 - val_accuracy: 0.9578\n",
      "Epoch 9/50\n",
      "205/205 [==============================] - 0s 2ms/step - loss: 0.1075 - accuracy: 0.9682 - val_loss: 0.1542 - val_accuracy: 0.9567\n",
      "Epoch 10/50\n",
      "205/205 [==============================] - 0s 2ms/step - loss: 0.1048 - accuracy: 0.9702 - val_loss: 0.1554 - val_accuracy: 0.9567\n",
      "Epoch 11/50\n",
      "205/205 [==============================] - 0s 2ms/step - loss: 0.1025 - accuracy: 0.9692 - val_loss: 0.1570 - val_accuracy: 0.9567\n",
      "Epoch 12/50\n",
      "205/205 [==============================] - 1s 2ms/step - loss: 0.1014 - accuracy: 0.9692 - val_loss: 0.1577 - val_accuracy: 0.9578\n",
      "Epoch 13/50\n",
      "205/205 [==============================] - 1s 2ms/step - loss: 0.0987 - accuracy: 0.9697 - val_loss: 0.1595 - val_accuracy: 0.9578\n",
      "Epoch 14/50\n",
      "205/205 [==============================] - 1s 3ms/step - loss: 0.0978 - accuracy: 0.9702 - val_loss: 0.1601 - val_accuracy: 0.9567\n",
      "Epoch 15/50\n",
      "205/205 [==============================] - 1s 2ms/step - loss: 0.0963 - accuracy: 0.9697 - val_loss: 0.1615 - val_accuracy: 0.9567\n"
     ]
    }
   ],
   "source": [
    "# seleccionar las columnas que quiero usar como variables de entrada y como variable objetivo\n",
    "X = df.drop(columns='trombo')\n",
    "y = df['trombo']\n",
    "\n",
    "df = df.sample(frac=1)\n",
    "sc = StandardScaler()\n",
    "X = sc.fit_transform(X)\n",
    "\n",
    "# Definimos el modelo\n",
    "model = Sequential()\n",
    "model.add(Dense(26, input_dim=38, activation='relu'))\n",
    "model.add(Dense(1, activation='sigmoid'))\n",
    "\n",
    "# Compilamos el modelo, especificando la función de pérdida y el optimizador\n",
    "model.compile(loss='binary_crossentropy', optimizer='adam', metrics=['accuracy'])\n",
    "\n",
    "# Entrenamos el modelo utilizando los datos de entrada y salida\n",
    "callback = tf.keras.callbacks.EarlyStopping(monitor='val_loss', patience=10)\n",
    "history = model.fit(X, y,validation_split=0.3,epochs=50, batch_size=10,callbacks=[callback])"
   ]
  },
  {
   "cell_type": "code",
   "execution_count": 316,
   "metadata": {},
   "outputs": [
    {
     "data": {
      "image/png": "[encoded data removed]",
      "text/plain": [
       "<Figure size 432x288 with 1 Axes>"
      ]
     },
     "metadata": {
      "needs_background": "light"
     },
     "output_type": "display_data"
    }
   ],
   "source": [
    "plt.plot(history.history['loss'])\n",
    "plt.plot(history.history['val_loss'])\n",
    "plt.title('model loss')\n",
    "plt.ylabel('loss')\n",
    "plt.xlabel('epoch')\n",
    "plt.legend(['train', 'val'], loc='upper right')\n",
    "plt.show()"
   ]
  },
  {
   "attachments": {},
   "cell_type": "markdown",
   "metadata": {},
   "source": [
    "m9a"
   ]
  },
  {
   "cell_type": "code",
   "execution_count": 317,
   "metadata": {},
   "outputs": [
    {
     "name": "stdout",
     "output_type": "stream",
     "text": [
      "Epoch 1/50\n",
      "205/205 [==============================] - 2s 4ms/step - loss: 0.2454 - accuracy: 0.9448 - val_loss: 0.1244 - val_accuracy: 0.9715\n",
      "Epoch 2/50\n",
      "205/205 [==============================] - 1s 2ms/step - loss: 0.1470 - accuracy: 0.9614 - val_loss: 0.1161 - val_accuracy: 0.9715\n",
      "Epoch 3/50\n",
      "205/205 [==============================] - 1s 3ms/step - loss: 0.1341 - accuracy: 0.9619 - val_loss: 0.1142 - val_accuracy: 0.9715\n",
      "Epoch 4/50\n",
      "205/205 [==============================] - 1s 3ms/step - loss: 0.1290 - accuracy: 0.9624 - val_loss: 0.1138 - val_accuracy: 0.9704\n",
      "Epoch 5/50\n",
      "205/205 [==============================] - 1s 3ms/step - loss: 0.1248 - accuracy: 0.9614 - val_loss: 0.1150 - val_accuracy: 0.9692\n",
      "Epoch 6/50\n",
      "205/205 [==============================] - 0s 2ms/step - loss: 0.1188 - accuracy: 0.9619 - val_loss: 0.1170 - val_accuracy: 0.9704\n",
      "Epoch 7/50\n",
      "205/205 [==============================] - 1s 3ms/step - loss: 0.1160 - accuracy: 0.9619 - val_loss: 0.1173 - val_accuracy: 0.9692\n",
      "Epoch 8/50\n",
      "205/205 [==============================] - 1s 3ms/step - loss: 0.1122 - accuracy: 0.9633 - val_loss: 0.1182 - val_accuracy: 0.9692\n",
      "Epoch 9/50\n",
      "205/205 [==============================] - 1s 3ms/step - loss: 0.1086 - accuracy: 0.9629 - val_loss: 0.1179 - val_accuracy: 0.9681\n",
      "Epoch 10/50\n",
      "205/205 [==============================] - 1s 3ms/step - loss: 0.1073 - accuracy: 0.9643 - val_loss: 0.1163 - val_accuracy: 0.9715\n",
      "Epoch 11/50\n",
      "205/205 [==============================] - 1s 4ms/step - loss: 0.1041 - accuracy: 0.9624 - val_loss: 0.1223 - val_accuracy: 0.9692\n",
      "Epoch 12/50\n",
      "205/205 [==============================] - 1s 5ms/step - loss: 0.1014 - accuracy: 0.9643 - val_loss: 0.1241 - val_accuracy: 0.9681\n",
      "Epoch 13/50\n",
      "205/205 [==============================] - 1s 3ms/step - loss: 0.1002 - accuracy: 0.9658 - val_loss: 0.1229 - val_accuracy: 0.9681\n",
      "Epoch 14/50\n",
      "205/205 [==============================] - 1s 3ms/step - loss: 0.0967 - accuracy: 0.9658 - val_loss: 0.1235 - val_accuracy: 0.9715\n"
     ]
    }
   ],
   "source": [
    "# seleccionar las columnas que quiero usar como variables de entrada y como variable objetivo\n",
    "X = df.drop(columns='trombo')\n",
    "y = df['trombo']\n",
    "\n",
    "df = df.sample(frac=1)\n",
    "sc = StandardScaler()\n",
    "X = sc.fit_transform(X)\n",
    "\n",
    "# Definimos el modelo\n",
    "model = Sequential()\n",
    "model.add(Dense(75, input_dim=38, activation='relu'))\n",
    "model.add(Dense(1, activation='sigmoid'))\n",
    "\n",
    "# Compilamos el modelo, especificando la función de pérdida y el optimizador\n",
    "model.compile(loss='binary_crossentropy', optimizer='adam', metrics=['accuracy'])\n",
    "\n",
    "# Entrenamos el modelo utilizando los datos de entrada y salida\n",
    "callback = tf.keras.callbacks.EarlyStopping(monitor='val_loss', patience=10)\n",
    "history = model.fit(X, y,validation_split=0.3,epochs=50, batch_size=10,callbacks=[callback])"
   ]
  },
  {
   "cell_type": "code",
   "execution_count": 318,
   "metadata": {},
   "outputs": [
    {
     "data": {
      "image/png": "[encoded data removed]",
      "text/plain": [
       "<Figure size 432x288 with 1 Axes>"
      ]
     },
     "metadata": {
      "needs_background": "light"
     },
     "output_type": "display_data"
    }
   ],
   "source": [
    "plt.plot(history.history['loss'])\n",
    "plt.plot(history.history['val_loss'])\n",
    "plt.title('model loss')\n",
    "plt.ylabel('loss')\n",
    "plt.xlabel('epoch')\n",
    "plt.legend(['train', 'val'], loc='upper right')\n",
    "plt.show()"
   ]
  },
  {
   "attachments": {},
   "cell_type": "markdown",
   "metadata": {},
   "source": [
    "prueba sigmoid"
   ]
  },
  {
   "cell_type": "code",
   "execution_count": 325,
   "metadata": {},
   "outputs": [
    {
     "name": "stdout",
     "output_type": "stream",
     "text": [
      "Epoch 1/50\n",
      "205/205 [==============================] - 1s 4ms/step - loss: 0.0721 - accuracy: 0.9321 - val_loss: 0.0368 - val_accuracy: 0.9612\n",
      "Epoch 2/50\n",
      "205/205 [==============================] - 0s 2ms/step - loss: 0.0332 - accuracy: 0.9653 - val_loss: 0.0360 - val_accuracy: 0.9612\n",
      "Epoch 3/50\n",
      "205/205 [==============================] - 0s 2ms/step - loss: 0.0317 - accuracy: 0.9653 - val_loss: 0.0358 - val_accuracy: 0.9612\n",
      "Epoch 4/50\n",
      "205/205 [==============================] - 1s 3ms/step - loss: 0.0299 - accuracy: 0.9653 - val_loss: 0.0359 - val_accuracy: 0.9612\n",
      "Epoch 5/50\n",
      "205/205 [==============================] - 1s 3ms/step - loss: 0.0290 - accuracy: 0.9673 - val_loss: 0.0360 - val_accuracy: 0.9612\n",
      "Epoch 6/50\n",
      "205/205 [==============================] - 1s 2ms/step - loss: 0.0279 - accuracy: 0.9677 - val_loss: 0.0362 - val_accuracy: 0.9612\n",
      "Epoch 7/50\n",
      "205/205 [==============================] - 1s 4ms/step - loss: 0.0271 - accuracy: 0.9687 - val_loss: 0.0367 - val_accuracy: 0.9578\n",
      "Epoch 8/50\n",
      "205/205 [==============================] - 1s 3ms/step - loss: 0.0259 - accuracy: 0.9682 - val_loss: 0.0376 - val_accuracy: 0.9578\n",
      "Epoch 9/50\n",
      "205/205 [==============================] - 1s 3ms/step - loss: 0.0256 - accuracy: 0.9702 - val_loss: 0.0377 - val_accuracy: 0.9578\n",
      "Epoch 10/50\n",
      "205/205 [==============================] - 1s 2ms/step - loss: 0.0249 - accuracy: 0.9712 - val_loss: 0.0372 - val_accuracy: 0.9578\n",
      "Epoch 11/50\n",
      "205/205 [==============================] - 1s 3ms/step - loss: 0.0242 - accuracy: 0.9721 - val_loss: 0.0375 - val_accuracy: 0.9578\n",
      "Epoch 12/50\n",
      "205/205 [==============================] - 1s 3ms/step - loss: 0.0238 - accuracy: 0.9717 - val_loss: 0.0376 - val_accuracy: 0.9578\n",
      "Epoch 13/50\n",
      "205/205 [==============================] - 1s 2ms/step - loss: 0.0233 - accuracy: 0.9726 - val_loss: 0.0385 - val_accuracy: 0.9567\n"
     ]
    }
   ],
   "source": [
    "# seleccionar las columnas que quiero usar como variables de entrada y como variable objetivo\n",
    "X = df.drop(columns='trombo')\n",
    "y = df['trombo']\n",
    "\n",
    "df = df.sample(frac=1)\n",
    "sc = StandardScaler()\n",
    "X = sc.fit_transform(X)\n",
    "\n",
    "# Definimos el modelo\n",
    "model = Sequential()\n",
    "model.add(Dense(26, input_dim=38, activation='relu'))\n",
    "model.add(Dense(26, activation='relu'))\n",
    "model.add(Dense(1, activation='sigmoid'))\n",
    "\n",
    "# Compilamos el modelo, especificando la función de pérdida y el optimizador\n",
    "model.compile(loss='mse', optimizer='adam', metrics=['accuracy'])\n",
    "\n",
    "# Entrenamos el modelo utilizando los datos de entrada y salida\n",
    "callback = tf.keras.callbacks.EarlyStopping(monitor='val_loss', patience=10)\n",
    "history = model.fit(X, y,validation_split=0.3,epochs=50, batch_size=10,callbacks=[callback])"
   ]
  },
  {
   "cell_type": "code",
   "execution_count": 326,
   "metadata": {},
   "outputs": [
    {
     "data": {
      "image/png": "[encoded data removed]",
      "text/plain": [
       "<Figure size 432x288 with 1 Axes>"
      ]
     },
     "metadata": {
      "needs_background": "light"
     },
     "output_type": "display_data"
    }
   ],
   "source": [
    "plt.plot(history.history['loss'])\n",
    "plt.plot(history.history['val_loss'])\n",
    "plt.title('model loss')\n",
    "plt.ylabel('loss')\n",
    "plt.xlabel('epoch')\n",
    "plt.legend(['train', 'val'], loc='upper right')\n",
    "plt.show()"
   ]
  },
  {
   "cell_type": "code",
   "execution_count": null,
   "metadata": {},
   "outputs": [],
   "source": []
  },
  {
   "cell_type": "code",
   "execution_count": null,
   "metadata": {},
   "outputs": [],
   "source": []
  },
  {
   "cell_type": "code",
   "execution_count": null,
   "metadata": {},
   "outputs": [],
   "source": []
  },
  {
   "cell_type": "code",
   "execution_count": null,
   "metadata": {},
   "outputs": [],
   "source": []
  }
 ],
 "metadata": {
  "kernelspec": {
   "display_name": "Python 3.9.7 ('base')",
   "language": "python",
   "name": "python3"
  },
  "language_info": {
   "codemirror_mode": {
    "name": "ipython",
    "version": 3
   },
   "file_extension": ".py",
   "mimetype": "text/x-python",
   "name": "python",
   "nbconvert_exporter": "python",
   "pygments_lexer": "ipython3",
   "version": "3.9.7 (default, Sep 16 2021, 08:50:36) \n[Clang 10.0.0 ]"
  },
  "orig_nbformat": 4,
  "vscode": {
   "interpreter": {
    "hash": "4dc59a6cb4cfd5f76bd0b88289ed0bef016ef72e750ee9b9dfdad8c1432fb77c"
   }
  }
 },
 "nbformat": 4,
 "nbformat_minor": 2
}
